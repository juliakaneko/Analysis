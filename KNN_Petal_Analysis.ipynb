{
  "nbformat": 4,
  "nbformat_minor": 0,
  "metadata": {
    "colab": {
      "name": "KNN Petal Analysis.ipynb",
      "provenance": [],
      "collapsed_sections": [
        "8yEp9o5z72y9"
      ],
      "include_colab_link": true
    },
    "kernelspec": {
      "name": "python3",
      "display_name": "Python 3"
    },
    "language_info": {
      "name": "python"
    }
  },
  "cells": [
    {
      "cell_type": "markdown",
      "metadata": {
        "id": "view-in-github",
        "colab_type": "text"
      },
      "source": [
        "<a href=\"https://colab.research.google.com/github/juliakaneko/Analysis/blob/main/KNN_Petal_Analysis.ipynb\" target=\"_parent\"><img src=\"https://colab.research.google.com/assets/colab-badge.svg\" alt=\"Open In Colab\"/></a>"
      ]
    },
    {
      "cell_type": "markdown",
      "source": [
        "# Import Libaries"
      ],
      "metadata": {
        "id": "YyTFWAhGxRCT"
      }
    },
    {
      "cell_type": "code",
      "execution_count": 48,
      "metadata": {
        "id": "0ldeu1fiuvla"
      },
      "outputs": [],
      "source": [
        "import pandas as pd\n",
        "import seaborn as sns\n",
        "import matplotlib.pyplot as plt\n",
        "import numpy as np"
      ]
    },
    {
      "cell_type": "markdown",
      "source": [
        "# Load Data"
      ],
      "metadata": {
        "id": "njjpTv9FxVwB"
      }
    },
    {
      "cell_type": "code",
      "source": [
        "df = pd.read_csv('https://raw.githubusercontent.com/glopez21/ML-Data/main/Iris.csv')"
      ],
      "metadata": {
        "id": "TJeD02VHvU9h"
      },
      "execution_count": 49,
      "outputs": []
    },
    {
      "cell_type": "markdown",
      "source": [
        "# EDA"
      ],
      "metadata": {
        "id": "BpK-zwFrxytT"
      }
    },
    {
      "cell_type": "code",
      "source": [
        "df.head()"
      ],
      "metadata": {
        "colab": {
          "base_uri": "https://localhost:8080/",
          "height": 206
        },
        "id": "2-NaijqUxQMv",
        "outputId": "aa0909d3-cd32-4ffa-d5bf-f8c39d790fa0"
      },
      "execution_count": 50,
      "outputs": [
        {
          "output_type": "execute_result",
          "data": {
            "text/html": [
              "\n",
              "  <div id=\"df-695d1452-867f-459e-aba8-c5c5fdf4fb74\">\n",
              "    <div class=\"colab-df-container\">\n",
              "      <div>\n",
              "<style scoped>\n",
              "    .dataframe tbody tr th:only-of-type {\n",
              "        vertical-align: middle;\n",
              "    }\n",
              "\n",
              "    .dataframe tbody tr th {\n",
              "        vertical-align: top;\n",
              "    }\n",
              "\n",
              "    .dataframe thead th {\n",
              "        text-align: right;\n",
              "    }\n",
              "</style>\n",
              "<table border=\"1\" class=\"dataframe\">\n",
              "  <thead>\n",
              "    <tr style=\"text-align: right;\">\n",
              "      <th></th>\n",
              "      <th>Id</th>\n",
              "      <th>SepalLengthCm</th>\n",
              "      <th>SepalWidthCm</th>\n",
              "      <th>PetalLengthCm</th>\n",
              "      <th>PetalWidthCm</th>\n",
              "      <th>Species</th>\n",
              "    </tr>\n",
              "  </thead>\n",
              "  <tbody>\n",
              "    <tr>\n",
              "      <th>0</th>\n",
              "      <td>1</td>\n",
              "      <td>5.1</td>\n",
              "      <td>3.5</td>\n",
              "      <td>1.4</td>\n",
              "      <td>0.2</td>\n",
              "      <td>Iris-setosa</td>\n",
              "    </tr>\n",
              "    <tr>\n",
              "      <th>1</th>\n",
              "      <td>2</td>\n",
              "      <td>4.9</td>\n",
              "      <td>3.0</td>\n",
              "      <td>1.4</td>\n",
              "      <td>0.2</td>\n",
              "      <td>Iris-setosa</td>\n",
              "    </tr>\n",
              "    <tr>\n",
              "      <th>2</th>\n",
              "      <td>3</td>\n",
              "      <td>4.7</td>\n",
              "      <td>3.2</td>\n",
              "      <td>1.3</td>\n",
              "      <td>0.2</td>\n",
              "      <td>Iris-setosa</td>\n",
              "    </tr>\n",
              "    <tr>\n",
              "      <th>3</th>\n",
              "      <td>4</td>\n",
              "      <td>4.6</td>\n",
              "      <td>3.1</td>\n",
              "      <td>1.5</td>\n",
              "      <td>0.2</td>\n",
              "      <td>Iris-setosa</td>\n",
              "    </tr>\n",
              "    <tr>\n",
              "      <th>4</th>\n",
              "      <td>5</td>\n",
              "      <td>5.0</td>\n",
              "      <td>3.6</td>\n",
              "      <td>1.4</td>\n",
              "      <td>0.2</td>\n",
              "      <td>Iris-setosa</td>\n",
              "    </tr>\n",
              "  </tbody>\n",
              "</table>\n",
              "</div>\n",
              "      <button class=\"colab-df-convert\" onclick=\"convertToInteractive('df-695d1452-867f-459e-aba8-c5c5fdf4fb74')\"\n",
              "              title=\"Convert this dataframe to an interactive table.\"\n",
              "              style=\"display:none;\">\n",
              "        \n",
              "  <svg xmlns=\"http://www.w3.org/2000/svg\" height=\"24px\"viewBox=\"0 0 24 24\"\n",
              "       width=\"24px\">\n",
              "    <path d=\"M0 0h24v24H0V0z\" fill=\"none\"/>\n",
              "    <path d=\"M18.56 5.44l.94 2.06.94-2.06 2.06-.94-2.06-.94-.94-2.06-.94 2.06-2.06.94zm-11 1L8.5 8.5l.94-2.06 2.06-.94-2.06-.94L8.5 2.5l-.94 2.06-2.06.94zm10 10l.94 2.06.94-2.06 2.06-.94-2.06-.94-.94-2.06-.94 2.06-2.06.94z\"/><path d=\"M17.41 7.96l-1.37-1.37c-.4-.4-.92-.59-1.43-.59-.52 0-1.04.2-1.43.59L10.3 9.45l-7.72 7.72c-.78.78-.78 2.05 0 2.83L4 21.41c.39.39.9.59 1.41.59.51 0 1.02-.2 1.41-.59l7.78-7.78 2.81-2.81c.8-.78.8-2.07 0-2.86zM5.41 20L4 18.59l7.72-7.72 1.47 1.35L5.41 20z\"/>\n",
              "  </svg>\n",
              "      </button>\n",
              "      \n",
              "  <style>\n",
              "    .colab-df-container {\n",
              "      display:flex;\n",
              "      flex-wrap:wrap;\n",
              "      gap: 12px;\n",
              "    }\n",
              "\n",
              "    .colab-df-convert {\n",
              "      background-color: #E8F0FE;\n",
              "      border: none;\n",
              "      border-radius: 50%;\n",
              "      cursor: pointer;\n",
              "      display: none;\n",
              "      fill: #1967D2;\n",
              "      height: 32px;\n",
              "      padding: 0 0 0 0;\n",
              "      width: 32px;\n",
              "    }\n",
              "\n",
              "    .colab-df-convert:hover {\n",
              "      background-color: #E2EBFA;\n",
              "      box-shadow: 0px 1px 2px rgba(60, 64, 67, 0.3), 0px 1px 3px 1px rgba(60, 64, 67, 0.15);\n",
              "      fill: #174EA6;\n",
              "    }\n",
              "\n",
              "    [theme=dark] .colab-df-convert {\n",
              "      background-color: #3B4455;\n",
              "      fill: #D2E3FC;\n",
              "    }\n",
              "\n",
              "    [theme=dark] .colab-df-convert:hover {\n",
              "      background-color: #434B5C;\n",
              "      box-shadow: 0px 1px 3px 1px rgba(0, 0, 0, 0.15);\n",
              "      filter: drop-shadow(0px 1px 2px rgba(0, 0, 0, 0.3));\n",
              "      fill: #FFFFFF;\n",
              "    }\n",
              "  </style>\n",
              "\n",
              "      <script>\n",
              "        const buttonEl =\n",
              "          document.querySelector('#df-695d1452-867f-459e-aba8-c5c5fdf4fb74 button.colab-df-convert');\n",
              "        buttonEl.style.display =\n",
              "          google.colab.kernel.accessAllowed ? 'block' : 'none';\n",
              "\n",
              "        async function convertToInteractive(key) {\n",
              "          const element = document.querySelector('#df-695d1452-867f-459e-aba8-c5c5fdf4fb74');\n",
              "          const dataTable =\n",
              "            await google.colab.kernel.invokeFunction('convertToInteractive',\n",
              "                                                     [key], {});\n",
              "          if (!dataTable) return;\n",
              "\n",
              "          const docLinkHtml = 'Like what you see? Visit the ' +\n",
              "            '<a target=\"_blank\" href=https://colab.research.google.com/notebooks/data_table.ipynb>data table notebook</a>'\n",
              "            + ' to learn more about interactive tables.';\n",
              "          element.innerHTML = '';\n",
              "          dataTable['output_type'] = 'display_data';\n",
              "          await google.colab.output.renderOutput(dataTable, element);\n",
              "          const docLink = document.createElement('div');\n",
              "          docLink.innerHTML = docLinkHtml;\n",
              "          element.appendChild(docLink);\n",
              "        }\n",
              "      </script>\n",
              "    </div>\n",
              "  </div>\n",
              "  "
            ],
            "text/plain": [
              "   Id  SepalLengthCm  SepalWidthCm  PetalLengthCm  PetalWidthCm      Species\n",
              "0   1            5.1           3.5            1.4           0.2  Iris-setosa\n",
              "1   2            4.9           3.0            1.4           0.2  Iris-setosa\n",
              "2   3            4.7           3.2            1.3           0.2  Iris-setosa\n",
              "3   4            4.6           3.1            1.5           0.2  Iris-setosa\n",
              "4   5            5.0           3.6            1.4           0.2  Iris-setosa"
            ]
          },
          "metadata": {},
          "execution_count": 50
        }
      ]
    },
    {
      "cell_type": "code",
      "source": [
        "# Check if there are null values\n",
        "df.info()"
      ],
      "metadata": {
        "colab": {
          "base_uri": "https://localhost:8080/"
        },
        "id": "HmJXiWjSwVBb",
        "outputId": "011c8c79-ae25-4468-db11-69f0c7c6b7f6"
      },
      "execution_count": 51,
      "outputs": [
        {
          "output_type": "stream",
          "name": "stdout",
          "text": [
            "<class 'pandas.core.frame.DataFrame'>\n",
            "RangeIndex: 150 entries, 0 to 149\n",
            "Data columns (total 6 columns):\n",
            " #   Column         Non-Null Count  Dtype  \n",
            "---  ------         --------------  -----  \n",
            " 0   Id             150 non-null    int64  \n",
            " 1   SepalLengthCm  150 non-null    float64\n",
            " 2   SepalWidthCm   150 non-null    float64\n",
            " 3   PetalLengthCm  150 non-null    float64\n",
            " 4   PetalWidthCm   150 non-null    float64\n",
            " 5   Species        150 non-null    object \n",
            "dtypes: float64(4), int64(1), object(1)\n",
            "memory usage: 7.2+ KB\n"
          ]
        }
      ]
    },
    {
      "cell_type": "code",
      "source": [
        "# Check how many species\n",
        "df['Species'].unique()"
      ],
      "metadata": {
        "colab": {
          "base_uri": "https://localhost:8080/"
        },
        "id": "uEtBjXOO4yGp",
        "outputId": "a812a226-1e7e-45f0-b1c9-09e697fa4256"
      },
      "execution_count": 52,
      "outputs": [
        {
          "output_type": "execute_result",
          "data": {
            "text/plain": [
              "array(['Iris-setosa', 'Iris-versicolor', 'Iris-virginica'], dtype=object)"
            ]
          },
          "metadata": {},
          "execution_count": 52
        }
      ]
    },
    {
      "cell_type": "code",
      "source": [
        "# Convert the Species column into numbers\n",
        "def species_to_num(x):\n",
        "  if x == 'Iris-setosa':\n",
        "    return 0\n",
        "  elif x == 'Iris-versicolor':\n",
        "    return 1\n",
        "  else:\n",
        "    return 2\n"
      ],
      "metadata": {
        "id": "hvyHR-FVvdb2"
      },
      "execution_count": 53,
      "outputs": []
    },
    {
      "cell_type": "code",
      "source": [
        "# Apply the method on 'Species' column\n",
        "df['Species'] = df['Species'].apply(species_to_num)"
      ],
      "metadata": {
        "id": "cBD5bgrQ5UMy"
      },
      "execution_count": 54,
      "outputs": []
    },
    {
      "cell_type": "code",
      "source": [
        "df"
      ],
      "metadata": {
        "colab": {
          "base_uri": "https://localhost:8080/",
          "height": 468
        },
        "id": "KAvo5w6BvqFH",
        "outputId": "ab550e98-001f-4cc2-9dac-c158ede0ee5c"
      },
      "execution_count": 55,
      "outputs": [
        {
          "output_type": "execute_result",
          "data": {
            "text/html": [
              "\n",
              "  <div id=\"df-47a1afb5-3197-4a27-8197-fc34e1aa0550\">\n",
              "    <div class=\"colab-df-container\">\n",
              "      <div>\n",
              "<style scoped>\n",
              "    .dataframe tbody tr th:only-of-type {\n",
              "        vertical-align: middle;\n",
              "    }\n",
              "\n",
              "    .dataframe tbody tr th {\n",
              "        vertical-align: top;\n",
              "    }\n",
              "\n",
              "    .dataframe thead th {\n",
              "        text-align: right;\n",
              "    }\n",
              "</style>\n",
              "<table border=\"1\" class=\"dataframe\">\n",
              "  <thead>\n",
              "    <tr style=\"text-align: right;\">\n",
              "      <th></th>\n",
              "      <th>Id</th>\n",
              "      <th>SepalLengthCm</th>\n",
              "      <th>SepalWidthCm</th>\n",
              "      <th>PetalLengthCm</th>\n",
              "      <th>PetalWidthCm</th>\n",
              "      <th>Species</th>\n",
              "    </tr>\n",
              "  </thead>\n",
              "  <tbody>\n",
              "    <tr>\n",
              "      <th>0</th>\n",
              "      <td>1</td>\n",
              "      <td>5.1</td>\n",
              "      <td>3.5</td>\n",
              "      <td>1.4</td>\n",
              "      <td>0.2</td>\n",
              "      <td>0</td>\n",
              "    </tr>\n",
              "    <tr>\n",
              "      <th>1</th>\n",
              "      <td>2</td>\n",
              "      <td>4.9</td>\n",
              "      <td>3.0</td>\n",
              "      <td>1.4</td>\n",
              "      <td>0.2</td>\n",
              "      <td>0</td>\n",
              "    </tr>\n",
              "    <tr>\n",
              "      <th>2</th>\n",
              "      <td>3</td>\n",
              "      <td>4.7</td>\n",
              "      <td>3.2</td>\n",
              "      <td>1.3</td>\n",
              "      <td>0.2</td>\n",
              "      <td>0</td>\n",
              "    </tr>\n",
              "    <tr>\n",
              "      <th>3</th>\n",
              "      <td>4</td>\n",
              "      <td>4.6</td>\n",
              "      <td>3.1</td>\n",
              "      <td>1.5</td>\n",
              "      <td>0.2</td>\n",
              "      <td>0</td>\n",
              "    </tr>\n",
              "    <tr>\n",
              "      <th>4</th>\n",
              "      <td>5</td>\n",
              "      <td>5.0</td>\n",
              "      <td>3.6</td>\n",
              "      <td>1.4</td>\n",
              "      <td>0.2</td>\n",
              "      <td>0</td>\n",
              "    </tr>\n",
              "    <tr>\n",
              "      <th>...</th>\n",
              "      <td>...</td>\n",
              "      <td>...</td>\n",
              "      <td>...</td>\n",
              "      <td>...</td>\n",
              "      <td>...</td>\n",
              "      <td>...</td>\n",
              "    </tr>\n",
              "    <tr>\n",
              "      <th>145</th>\n",
              "      <td>146</td>\n",
              "      <td>6.7</td>\n",
              "      <td>3.0</td>\n",
              "      <td>5.2</td>\n",
              "      <td>2.3</td>\n",
              "      <td>2</td>\n",
              "    </tr>\n",
              "    <tr>\n",
              "      <th>146</th>\n",
              "      <td>147</td>\n",
              "      <td>6.3</td>\n",
              "      <td>2.5</td>\n",
              "      <td>5.0</td>\n",
              "      <td>1.9</td>\n",
              "      <td>2</td>\n",
              "    </tr>\n",
              "    <tr>\n",
              "      <th>147</th>\n",
              "      <td>148</td>\n",
              "      <td>6.5</td>\n",
              "      <td>3.0</td>\n",
              "      <td>5.2</td>\n",
              "      <td>2.0</td>\n",
              "      <td>2</td>\n",
              "    </tr>\n",
              "    <tr>\n",
              "      <th>148</th>\n",
              "      <td>149</td>\n",
              "      <td>6.2</td>\n",
              "      <td>3.4</td>\n",
              "      <td>5.4</td>\n",
              "      <td>2.3</td>\n",
              "      <td>2</td>\n",
              "    </tr>\n",
              "    <tr>\n",
              "      <th>149</th>\n",
              "      <td>150</td>\n",
              "      <td>5.9</td>\n",
              "      <td>3.0</td>\n",
              "      <td>5.1</td>\n",
              "      <td>1.8</td>\n",
              "      <td>2</td>\n",
              "    </tr>\n",
              "  </tbody>\n",
              "</table>\n",
              "<p>150 rows × 6 columns</p>\n",
              "</div>\n",
              "      <button class=\"colab-df-convert\" onclick=\"convertToInteractive('df-47a1afb5-3197-4a27-8197-fc34e1aa0550')\"\n",
              "              title=\"Convert this dataframe to an interactive table.\"\n",
              "              style=\"display:none;\">\n",
              "        \n",
              "  <svg xmlns=\"http://www.w3.org/2000/svg\" height=\"24px\"viewBox=\"0 0 24 24\"\n",
              "       width=\"24px\">\n",
              "    <path d=\"M0 0h24v24H0V0z\" fill=\"none\"/>\n",
              "    <path d=\"M18.56 5.44l.94 2.06.94-2.06 2.06-.94-2.06-.94-.94-2.06-.94 2.06-2.06.94zm-11 1L8.5 8.5l.94-2.06 2.06-.94-2.06-.94L8.5 2.5l-.94 2.06-2.06.94zm10 10l.94 2.06.94-2.06 2.06-.94-2.06-.94-.94-2.06-.94 2.06-2.06.94z\"/><path d=\"M17.41 7.96l-1.37-1.37c-.4-.4-.92-.59-1.43-.59-.52 0-1.04.2-1.43.59L10.3 9.45l-7.72 7.72c-.78.78-.78 2.05 0 2.83L4 21.41c.39.39.9.59 1.41.59.51 0 1.02-.2 1.41-.59l7.78-7.78 2.81-2.81c.8-.78.8-2.07 0-2.86zM5.41 20L4 18.59l7.72-7.72 1.47 1.35L5.41 20z\"/>\n",
              "  </svg>\n",
              "      </button>\n",
              "      \n",
              "  <style>\n",
              "    .colab-df-container {\n",
              "      display:flex;\n",
              "      flex-wrap:wrap;\n",
              "      gap: 12px;\n",
              "    }\n",
              "\n",
              "    .colab-df-convert {\n",
              "      background-color: #E8F0FE;\n",
              "      border: none;\n",
              "      border-radius: 50%;\n",
              "      cursor: pointer;\n",
              "      display: none;\n",
              "      fill: #1967D2;\n",
              "      height: 32px;\n",
              "      padding: 0 0 0 0;\n",
              "      width: 32px;\n",
              "    }\n",
              "\n",
              "    .colab-df-convert:hover {\n",
              "      background-color: #E2EBFA;\n",
              "      box-shadow: 0px 1px 2px rgba(60, 64, 67, 0.3), 0px 1px 3px 1px rgba(60, 64, 67, 0.15);\n",
              "      fill: #174EA6;\n",
              "    }\n",
              "\n",
              "    [theme=dark] .colab-df-convert {\n",
              "      background-color: #3B4455;\n",
              "      fill: #D2E3FC;\n",
              "    }\n",
              "\n",
              "    [theme=dark] .colab-df-convert:hover {\n",
              "      background-color: #434B5C;\n",
              "      box-shadow: 0px 1px 3px 1px rgba(0, 0, 0, 0.15);\n",
              "      filter: drop-shadow(0px 1px 2px rgba(0, 0, 0, 0.3));\n",
              "      fill: #FFFFFF;\n",
              "    }\n",
              "  </style>\n",
              "\n",
              "      <script>\n",
              "        const buttonEl =\n",
              "          document.querySelector('#df-47a1afb5-3197-4a27-8197-fc34e1aa0550 button.colab-df-convert');\n",
              "        buttonEl.style.display =\n",
              "          google.colab.kernel.accessAllowed ? 'block' : 'none';\n",
              "\n",
              "        async function convertToInteractive(key) {\n",
              "          const element = document.querySelector('#df-47a1afb5-3197-4a27-8197-fc34e1aa0550');\n",
              "          const dataTable =\n",
              "            await google.colab.kernel.invokeFunction('convertToInteractive',\n",
              "                                                     [key], {});\n",
              "          if (!dataTable) return;\n",
              "\n",
              "          const docLinkHtml = 'Like what you see? Visit the ' +\n",
              "            '<a target=\"_blank\" href=https://colab.research.google.com/notebooks/data_table.ipynb>data table notebook</a>'\n",
              "            + ' to learn more about interactive tables.';\n",
              "          element.innerHTML = '';\n",
              "          dataTable['output_type'] = 'display_data';\n",
              "          await google.colab.output.renderOutput(dataTable, element);\n",
              "          const docLink = document.createElement('div');\n",
              "          docLink.innerHTML = docLinkHtml;\n",
              "          element.appendChild(docLink);\n",
              "        }\n",
              "      </script>\n",
              "    </div>\n",
              "  </div>\n",
              "  "
            ],
            "text/plain": [
              "      Id  SepalLengthCm  SepalWidthCm  PetalLengthCm  PetalWidthCm  Species\n",
              "0      1            5.1           3.5            1.4           0.2        0\n",
              "1      2            4.9           3.0            1.4           0.2        0\n",
              "2      3            4.7           3.2            1.3           0.2        0\n",
              "3      4            4.6           3.1            1.5           0.2        0\n",
              "4      5            5.0           3.6            1.4           0.2        0\n",
              "..   ...            ...           ...            ...           ...      ...\n",
              "145  146            6.7           3.0            5.2           2.3        2\n",
              "146  147            6.3           2.5            5.0           1.9        2\n",
              "147  148            6.5           3.0            5.2           2.0        2\n",
              "148  149            6.2           3.4            5.4           2.3        2\n",
              "149  150            5.9           3.0            5.1           1.8        2\n",
              "\n",
              "[150 rows x 6 columns]"
            ]
          },
          "metadata": {},
          "execution_count": 55
        }
      ]
    },
    {
      "cell_type": "code",
      "source": [
        "# Set up 'Id' Column as index\n",
        "df.set_index('Id')"
      ],
      "metadata": {
        "colab": {
          "base_uri": "https://localhost:8080/",
          "height": 455
        },
        "id": "-FOeW-eHyA6B",
        "outputId": "ceeda9b0-50c7-46f9-d22f-3dfb97a8b161"
      },
      "execution_count": 56,
      "outputs": [
        {
          "output_type": "execute_result",
          "data": {
            "text/html": [
              "\n",
              "  <div id=\"df-aa2c32fd-43d4-44d5-8cac-c397dc3469b4\">\n",
              "    <div class=\"colab-df-container\">\n",
              "      <div>\n",
              "<style scoped>\n",
              "    .dataframe tbody tr th:only-of-type {\n",
              "        vertical-align: middle;\n",
              "    }\n",
              "\n",
              "    .dataframe tbody tr th {\n",
              "        vertical-align: top;\n",
              "    }\n",
              "\n",
              "    .dataframe thead th {\n",
              "        text-align: right;\n",
              "    }\n",
              "</style>\n",
              "<table border=\"1\" class=\"dataframe\">\n",
              "  <thead>\n",
              "    <tr style=\"text-align: right;\">\n",
              "      <th></th>\n",
              "      <th>SepalLengthCm</th>\n",
              "      <th>SepalWidthCm</th>\n",
              "      <th>PetalLengthCm</th>\n",
              "      <th>PetalWidthCm</th>\n",
              "      <th>Species</th>\n",
              "    </tr>\n",
              "    <tr>\n",
              "      <th>Id</th>\n",
              "      <th></th>\n",
              "      <th></th>\n",
              "      <th></th>\n",
              "      <th></th>\n",
              "      <th></th>\n",
              "    </tr>\n",
              "  </thead>\n",
              "  <tbody>\n",
              "    <tr>\n",
              "      <th>1</th>\n",
              "      <td>5.1</td>\n",
              "      <td>3.5</td>\n",
              "      <td>1.4</td>\n",
              "      <td>0.2</td>\n",
              "      <td>0</td>\n",
              "    </tr>\n",
              "    <tr>\n",
              "      <th>2</th>\n",
              "      <td>4.9</td>\n",
              "      <td>3.0</td>\n",
              "      <td>1.4</td>\n",
              "      <td>0.2</td>\n",
              "      <td>0</td>\n",
              "    </tr>\n",
              "    <tr>\n",
              "      <th>3</th>\n",
              "      <td>4.7</td>\n",
              "      <td>3.2</td>\n",
              "      <td>1.3</td>\n",
              "      <td>0.2</td>\n",
              "      <td>0</td>\n",
              "    </tr>\n",
              "    <tr>\n",
              "      <th>4</th>\n",
              "      <td>4.6</td>\n",
              "      <td>3.1</td>\n",
              "      <td>1.5</td>\n",
              "      <td>0.2</td>\n",
              "      <td>0</td>\n",
              "    </tr>\n",
              "    <tr>\n",
              "      <th>5</th>\n",
              "      <td>5.0</td>\n",
              "      <td>3.6</td>\n",
              "      <td>1.4</td>\n",
              "      <td>0.2</td>\n",
              "      <td>0</td>\n",
              "    </tr>\n",
              "    <tr>\n",
              "      <th>...</th>\n",
              "      <td>...</td>\n",
              "      <td>...</td>\n",
              "      <td>...</td>\n",
              "      <td>...</td>\n",
              "      <td>...</td>\n",
              "    </tr>\n",
              "    <tr>\n",
              "      <th>146</th>\n",
              "      <td>6.7</td>\n",
              "      <td>3.0</td>\n",
              "      <td>5.2</td>\n",
              "      <td>2.3</td>\n",
              "      <td>2</td>\n",
              "    </tr>\n",
              "    <tr>\n",
              "      <th>147</th>\n",
              "      <td>6.3</td>\n",
              "      <td>2.5</td>\n",
              "      <td>5.0</td>\n",
              "      <td>1.9</td>\n",
              "      <td>2</td>\n",
              "    </tr>\n",
              "    <tr>\n",
              "      <th>148</th>\n",
              "      <td>6.5</td>\n",
              "      <td>3.0</td>\n",
              "      <td>5.2</td>\n",
              "      <td>2.0</td>\n",
              "      <td>2</td>\n",
              "    </tr>\n",
              "    <tr>\n",
              "      <th>149</th>\n",
              "      <td>6.2</td>\n",
              "      <td>3.4</td>\n",
              "      <td>5.4</td>\n",
              "      <td>2.3</td>\n",
              "      <td>2</td>\n",
              "    </tr>\n",
              "    <tr>\n",
              "      <th>150</th>\n",
              "      <td>5.9</td>\n",
              "      <td>3.0</td>\n",
              "      <td>5.1</td>\n",
              "      <td>1.8</td>\n",
              "      <td>2</td>\n",
              "    </tr>\n",
              "  </tbody>\n",
              "</table>\n",
              "<p>150 rows × 5 columns</p>\n",
              "</div>\n",
              "      <button class=\"colab-df-convert\" onclick=\"convertToInteractive('df-aa2c32fd-43d4-44d5-8cac-c397dc3469b4')\"\n",
              "              title=\"Convert this dataframe to an interactive table.\"\n",
              "              style=\"display:none;\">\n",
              "        \n",
              "  <svg xmlns=\"http://www.w3.org/2000/svg\" height=\"24px\"viewBox=\"0 0 24 24\"\n",
              "       width=\"24px\">\n",
              "    <path d=\"M0 0h24v24H0V0z\" fill=\"none\"/>\n",
              "    <path d=\"M18.56 5.44l.94 2.06.94-2.06 2.06-.94-2.06-.94-.94-2.06-.94 2.06-2.06.94zm-11 1L8.5 8.5l.94-2.06 2.06-.94-2.06-.94L8.5 2.5l-.94 2.06-2.06.94zm10 10l.94 2.06.94-2.06 2.06-.94-2.06-.94-.94-2.06-.94 2.06-2.06.94z\"/><path d=\"M17.41 7.96l-1.37-1.37c-.4-.4-.92-.59-1.43-.59-.52 0-1.04.2-1.43.59L10.3 9.45l-7.72 7.72c-.78.78-.78 2.05 0 2.83L4 21.41c.39.39.9.59 1.41.59.51 0 1.02-.2 1.41-.59l7.78-7.78 2.81-2.81c.8-.78.8-2.07 0-2.86zM5.41 20L4 18.59l7.72-7.72 1.47 1.35L5.41 20z\"/>\n",
              "  </svg>\n",
              "      </button>\n",
              "      \n",
              "  <style>\n",
              "    .colab-df-container {\n",
              "      display:flex;\n",
              "      flex-wrap:wrap;\n",
              "      gap: 12px;\n",
              "    }\n",
              "\n",
              "    .colab-df-convert {\n",
              "      background-color: #E8F0FE;\n",
              "      border: none;\n",
              "      border-radius: 50%;\n",
              "      cursor: pointer;\n",
              "      display: none;\n",
              "      fill: #1967D2;\n",
              "      height: 32px;\n",
              "      padding: 0 0 0 0;\n",
              "      width: 32px;\n",
              "    }\n",
              "\n",
              "    .colab-df-convert:hover {\n",
              "      background-color: #E2EBFA;\n",
              "      box-shadow: 0px 1px 2px rgba(60, 64, 67, 0.3), 0px 1px 3px 1px rgba(60, 64, 67, 0.15);\n",
              "      fill: #174EA6;\n",
              "    }\n",
              "\n",
              "    [theme=dark] .colab-df-convert {\n",
              "      background-color: #3B4455;\n",
              "      fill: #D2E3FC;\n",
              "    }\n",
              "\n",
              "    [theme=dark] .colab-df-convert:hover {\n",
              "      background-color: #434B5C;\n",
              "      box-shadow: 0px 1px 3px 1px rgba(0, 0, 0, 0.15);\n",
              "      filter: drop-shadow(0px 1px 2px rgba(0, 0, 0, 0.3));\n",
              "      fill: #FFFFFF;\n",
              "    }\n",
              "  </style>\n",
              "\n",
              "      <script>\n",
              "        const buttonEl =\n",
              "          document.querySelector('#df-aa2c32fd-43d4-44d5-8cac-c397dc3469b4 button.colab-df-convert');\n",
              "        buttonEl.style.display =\n",
              "          google.colab.kernel.accessAllowed ? 'block' : 'none';\n",
              "\n",
              "        async function convertToInteractive(key) {\n",
              "          const element = document.querySelector('#df-aa2c32fd-43d4-44d5-8cac-c397dc3469b4');\n",
              "          const dataTable =\n",
              "            await google.colab.kernel.invokeFunction('convertToInteractive',\n",
              "                                                     [key], {});\n",
              "          if (!dataTable) return;\n",
              "\n",
              "          const docLinkHtml = 'Like what you see? Visit the ' +\n",
              "            '<a target=\"_blank\" href=https://colab.research.google.com/notebooks/data_table.ipynb>data table notebook</a>'\n",
              "            + ' to learn more about interactive tables.';\n",
              "          element.innerHTML = '';\n",
              "          dataTable['output_type'] = 'display_data';\n",
              "          await google.colab.output.renderOutput(dataTable, element);\n",
              "          const docLink = document.createElement('div');\n",
              "          docLink.innerHTML = docLinkHtml;\n",
              "          element.appendChild(docLink);\n",
              "        }\n",
              "      </script>\n",
              "    </div>\n",
              "  </div>\n",
              "  "
            ],
            "text/plain": [
              "     SepalLengthCm  SepalWidthCm  PetalLengthCm  PetalWidthCm  Species\n",
              "Id                                                                    \n",
              "1              5.1           3.5            1.4           0.2        0\n",
              "2              4.9           3.0            1.4           0.2        0\n",
              "3              4.7           3.2            1.3           0.2        0\n",
              "4              4.6           3.1            1.5           0.2        0\n",
              "5              5.0           3.6            1.4           0.2        0\n",
              "..             ...           ...            ...           ...      ...\n",
              "146            6.7           3.0            5.2           2.3        2\n",
              "147            6.3           2.5            5.0           1.9        2\n",
              "148            6.5           3.0            5.2           2.0        2\n",
              "149            6.2           3.4            5.4           2.3        2\n",
              "150            5.9           3.0            5.1           1.8        2\n",
              "\n",
              "[150 rows x 5 columns]"
            ]
          },
          "metadata": {},
          "execution_count": 56
        }
      ]
    },
    {
      "cell_type": "markdown",
      "source": [
        "# Normalize the Data"
      ],
      "metadata": {
        "id": "dTw1tLbS8SGX"
      }
    },
    {
      "cell_type": "markdown",
      "source": [
        "## Use StandardScaler to normalize the data"
      ],
      "metadata": {
        "id": "gOToFllm8VR4"
      }
    },
    {
      "cell_type": "code",
      "source": [
        "from sklearn.preprocessing import StandardScaler"
      ],
      "metadata": {
        "id": "03lHEGC68eNg"
      },
      "execution_count": 57,
      "outputs": []
    },
    {
      "cell_type": "code",
      "source": [
        "# Create scaler model\n",
        "scalar = StandardScaler()"
      ],
      "metadata": {
        "id": "VCwev5Vm8h02"
      },
      "execution_count": 58,
      "outputs": []
    },
    {
      "cell_type": "code",
      "source": [
        "# Train the data\n",
        "scalar.fit(df.drop(labels='Species',axis=1))"
      ],
      "metadata": {
        "colab": {
          "base_uri": "https://localhost:8080/"
        },
        "id": "_AY8i2bJ8hyV",
        "outputId": "7a7e8d97-f8c5-46b3-8a9e-296efd570724"
      },
      "execution_count": 59,
      "outputs": [
        {
          "output_type": "execute_result",
          "data": {
            "text/plain": [
              "StandardScaler()"
            ]
          },
          "metadata": {},
          "execution_count": 59
        }
      ]
    },
    {
      "cell_type": "code",
      "source": [
        "# Normalize the original data without 'Species' column\n",
        "scaled_data = scalar.transform(df.drop('Species',axis=1))"
      ],
      "metadata": {
        "id": "uwv8Lp-U8hv9"
      },
      "execution_count": 60,
      "outputs": []
    },
    {
      "cell_type": "code",
      "source": [
        "# Create a new Dataframe hold the data we just normalized\n",
        "df_scaled = pd.DataFrame(scaled_data,columns=df.columns[:-1])"
      ],
      "metadata": {
        "id": "rmwPG-0S8hqt"
      },
      "execution_count": 61,
      "outputs": []
    },
    {
      "cell_type": "code",
      "source": [
        "df_scaled.head()"
      ],
      "metadata": {
        "colab": {
          "base_uri": "https://localhost:8080/",
          "height": 206
        },
        "id": "xkK7TlIt8hn1",
        "outputId": "e62f9c54-2734-4b43-e2cd-b8f4b1b08783"
      },
      "execution_count": 62,
      "outputs": [
        {
          "output_type": "execute_result",
          "data": {
            "text/html": [
              "\n",
              "  <div id=\"df-3ee7601d-d706-47d6-90f9-2b5c422937fe\">\n",
              "    <div class=\"colab-df-container\">\n",
              "      <div>\n",
              "<style scoped>\n",
              "    .dataframe tbody tr th:only-of-type {\n",
              "        vertical-align: middle;\n",
              "    }\n",
              "\n",
              "    .dataframe tbody tr th {\n",
              "        vertical-align: top;\n",
              "    }\n",
              "\n",
              "    .dataframe thead th {\n",
              "        text-align: right;\n",
              "    }\n",
              "</style>\n",
              "<table border=\"1\" class=\"dataframe\">\n",
              "  <thead>\n",
              "    <tr style=\"text-align: right;\">\n",
              "      <th></th>\n",
              "      <th>Id</th>\n",
              "      <th>SepalLengthCm</th>\n",
              "      <th>SepalWidthCm</th>\n",
              "      <th>PetalLengthCm</th>\n",
              "      <th>PetalWidthCm</th>\n",
              "    </tr>\n",
              "  </thead>\n",
              "  <tbody>\n",
              "    <tr>\n",
              "      <th>0</th>\n",
              "      <td>-1.720542</td>\n",
              "      <td>-0.900681</td>\n",
              "      <td>1.032057</td>\n",
              "      <td>-1.341272</td>\n",
              "      <td>-1.312977</td>\n",
              "    </tr>\n",
              "    <tr>\n",
              "      <th>1</th>\n",
              "      <td>-1.697448</td>\n",
              "      <td>-1.143017</td>\n",
              "      <td>-0.124958</td>\n",
              "      <td>-1.341272</td>\n",
              "      <td>-1.312977</td>\n",
              "    </tr>\n",
              "    <tr>\n",
              "      <th>2</th>\n",
              "      <td>-1.674353</td>\n",
              "      <td>-1.385353</td>\n",
              "      <td>0.337848</td>\n",
              "      <td>-1.398138</td>\n",
              "      <td>-1.312977</td>\n",
              "    </tr>\n",
              "    <tr>\n",
              "      <th>3</th>\n",
              "      <td>-1.651258</td>\n",
              "      <td>-1.506521</td>\n",
              "      <td>0.106445</td>\n",
              "      <td>-1.284407</td>\n",
              "      <td>-1.312977</td>\n",
              "    </tr>\n",
              "    <tr>\n",
              "      <th>4</th>\n",
              "      <td>-1.628164</td>\n",
              "      <td>-1.021849</td>\n",
              "      <td>1.263460</td>\n",
              "      <td>-1.341272</td>\n",
              "      <td>-1.312977</td>\n",
              "    </tr>\n",
              "  </tbody>\n",
              "</table>\n",
              "</div>\n",
              "      <button class=\"colab-df-convert\" onclick=\"convertToInteractive('df-3ee7601d-d706-47d6-90f9-2b5c422937fe')\"\n",
              "              title=\"Convert this dataframe to an interactive table.\"\n",
              "              style=\"display:none;\">\n",
              "        \n",
              "  <svg xmlns=\"http://www.w3.org/2000/svg\" height=\"24px\"viewBox=\"0 0 24 24\"\n",
              "       width=\"24px\">\n",
              "    <path d=\"M0 0h24v24H0V0z\" fill=\"none\"/>\n",
              "    <path d=\"M18.56 5.44l.94 2.06.94-2.06 2.06-.94-2.06-.94-.94-2.06-.94 2.06-2.06.94zm-11 1L8.5 8.5l.94-2.06 2.06-.94-2.06-.94L8.5 2.5l-.94 2.06-2.06.94zm10 10l.94 2.06.94-2.06 2.06-.94-2.06-.94-.94-2.06-.94 2.06-2.06.94z\"/><path d=\"M17.41 7.96l-1.37-1.37c-.4-.4-.92-.59-1.43-.59-.52 0-1.04.2-1.43.59L10.3 9.45l-7.72 7.72c-.78.78-.78 2.05 0 2.83L4 21.41c.39.39.9.59 1.41.59.51 0 1.02-.2 1.41-.59l7.78-7.78 2.81-2.81c.8-.78.8-2.07 0-2.86zM5.41 20L4 18.59l7.72-7.72 1.47 1.35L5.41 20z\"/>\n",
              "  </svg>\n",
              "      </button>\n",
              "      \n",
              "  <style>\n",
              "    .colab-df-container {\n",
              "      display:flex;\n",
              "      flex-wrap:wrap;\n",
              "      gap: 12px;\n",
              "    }\n",
              "\n",
              "    .colab-df-convert {\n",
              "      background-color: #E8F0FE;\n",
              "      border: none;\n",
              "      border-radius: 50%;\n",
              "      cursor: pointer;\n",
              "      display: none;\n",
              "      fill: #1967D2;\n",
              "      height: 32px;\n",
              "      padding: 0 0 0 0;\n",
              "      width: 32px;\n",
              "    }\n",
              "\n",
              "    .colab-df-convert:hover {\n",
              "      background-color: #E2EBFA;\n",
              "      box-shadow: 0px 1px 2px rgba(60, 64, 67, 0.3), 0px 1px 3px 1px rgba(60, 64, 67, 0.15);\n",
              "      fill: #174EA6;\n",
              "    }\n",
              "\n",
              "    [theme=dark] .colab-df-convert {\n",
              "      background-color: #3B4455;\n",
              "      fill: #D2E3FC;\n",
              "    }\n",
              "\n",
              "    [theme=dark] .colab-df-convert:hover {\n",
              "      background-color: #434B5C;\n",
              "      box-shadow: 0px 1px 3px 1px rgba(0, 0, 0, 0.15);\n",
              "      filter: drop-shadow(0px 1px 2px rgba(0, 0, 0, 0.3));\n",
              "      fill: #FFFFFF;\n",
              "    }\n",
              "  </style>\n",
              "\n",
              "      <script>\n",
              "        const buttonEl =\n",
              "          document.querySelector('#df-3ee7601d-d706-47d6-90f9-2b5c422937fe button.colab-df-convert');\n",
              "        buttonEl.style.display =\n",
              "          google.colab.kernel.accessAllowed ? 'block' : 'none';\n",
              "\n",
              "        async function convertToInteractive(key) {\n",
              "          const element = document.querySelector('#df-3ee7601d-d706-47d6-90f9-2b5c422937fe');\n",
              "          const dataTable =\n",
              "            await google.colab.kernel.invokeFunction('convertToInteractive',\n",
              "                                                     [key], {});\n",
              "          if (!dataTable) return;\n",
              "\n",
              "          const docLinkHtml = 'Like what you see? Visit the ' +\n",
              "            '<a target=\"_blank\" href=https://colab.research.google.com/notebooks/data_table.ipynb>data table notebook</a>'\n",
              "            + ' to learn more about interactive tables.';\n",
              "          element.innerHTML = '';\n",
              "          dataTable['output_type'] = 'display_data';\n",
              "          await google.colab.output.renderOutput(dataTable, element);\n",
              "          const docLink = document.createElement('div');\n",
              "          docLink.innerHTML = docLinkHtml;\n",
              "          element.appendChild(docLink);\n",
              "        }\n",
              "      </script>\n",
              "    </div>\n",
              "  </div>\n",
              "  "
            ],
            "text/plain": [
              "         Id  SepalLengthCm  SepalWidthCm  PetalLengthCm  PetalWidthCm\n",
              "0 -1.720542      -0.900681      1.032057      -1.341272     -1.312977\n",
              "1 -1.697448      -1.143017     -0.124958      -1.341272     -1.312977\n",
              "2 -1.674353      -1.385353      0.337848      -1.398138     -1.312977\n",
              "3 -1.651258      -1.506521      0.106445      -1.284407     -1.312977\n",
              "4 -1.628164      -1.021849      1.263460      -1.341272     -1.312977"
            ]
          },
          "metadata": {},
          "execution_count": 62
        }
      ]
    },
    {
      "cell_type": "markdown",
      "source": [
        "# Split the Data"
      ],
      "metadata": {
        "id": "-x_V17tk1ML6"
      }
    },
    {
      "cell_type": "code",
      "source": [
        "# import necessary module\n",
        "from sklearn.model_selection import train_test_split"
      ],
      "metadata": {
        "id": "1iFDJrozyiRP"
      },
      "execution_count": 63,
      "outputs": []
    },
    {
      "cell_type": "code",
      "source": [
        "# test_size = 0.3 : \n",
        "#           Size of testing data is 70% of the data\n",
        "#           Size of training data is 70% of the data\n",
        "X_train,X_test,y_train,y_test = train_test_split(scaled_data,df['Species'],test_size=0.3)"
      ],
      "metadata": {
        "id": "cM_VqSk51RzK"
      },
      "execution_count": 64,
      "outputs": []
    },
    {
      "cell_type": "markdown",
      "source": [
        "# Create and Train Model"
      ],
      "metadata": {
        "id": "RDIsOKp11-_F"
      }
    },
    {
      "cell_type": "code",
      "source": [
        "# Import Knn model \n",
        "from sklearn.neighbors import KNeighborsClassifier"
      ],
      "metadata": {
        "id": "x7mNKn3f1pFf"
      },
      "execution_count": 65,
      "outputs": []
    },
    {
      "cell_type": "code",
      "source": [
        "# Create the knn model\n",
        "knn = KNeighborsClassifier(n_neighbors=4)"
      ],
      "metadata": {
        "id": "xnwUgiVp162A"
      },
      "execution_count": 66,
      "outputs": []
    },
    {
      "cell_type": "code",
      "source": [
        "# Train the knn model\n",
        "knn.fit(X_train,y_train)"
      ],
      "metadata": {
        "colab": {
          "base_uri": "https://localhost:8080/"
        },
        "id": "zSvJiME32T0L",
        "outputId": "06dcea24-c586-4f2f-fd44-75a53572f73f"
      },
      "execution_count": 67,
      "outputs": [
        {
          "output_type": "execute_result",
          "data": {
            "text/plain": [
              "KNeighborsClassifier(n_neighbors=4)"
            ]
          },
          "metadata": {},
          "execution_count": 67
        }
      ]
    },
    {
      "cell_type": "code",
      "source": [
        "# use X_test data to predict \n",
        "predict = knn.predict(X_test)"
      ],
      "metadata": {
        "id": "l4_orfmf2P3G"
      },
      "execution_count": 68,
      "outputs": []
    },
    {
      "cell_type": "code",
      "source": [
        "from sklearn.metrics import classification_report,confusion_matrix"
      ],
      "metadata": {
        "id": "O7qOw1ds2SUN"
      },
      "execution_count": 69,
      "outputs": []
    },
    {
      "cell_type": "code",
      "source": [
        "print(confusion_matrix(y_test,predict))"
      ],
      "metadata": {
        "colab": {
          "base_uri": "https://localhost:8080/"
        },
        "id": "0xX8h1G950YQ",
        "outputId": "87f9edf1-bcdf-4d79-aa14-2cae34cfab95"
      },
      "execution_count": 70,
      "outputs": [
        {
          "output_type": "stream",
          "name": "stdout",
          "text": [
            "[[16  0  0]\n",
            " [ 0 12  0]\n",
            " [ 0  0 17]]\n"
          ]
        }
      ]
    },
    {
      "cell_type": "markdown",
      "source": [
        "![WeChat Image_20220119155721.png](data:image/png;base64,iVBORw0KGgoAAAANSUhEUgAAAmsAAAJfCAYAAAAgp5FfAAAAAXNSR0IArs4c6QAAAARnQU1BAACxjwv8YQUAAAAJcEhZcwAAEzkAABM5AY/CVgEAAGR9SURBVHhe7d0FvFV1vv///+PeOz137jjWzNgdIKIYKCgd0t2dEtJd0t0pKQjS3SndISDSFkoj0iAMfP77/eHsMwdBPfuwZ37L2a/v4/F8IHutszf3zl5nvfZ3xf7/jMFgMBgMBoMR2PFvi7WrZ87a5b37gJhz5cDXdu3aNd8ODh06Ylu37QBiztdfH/JtQOOzz7+85TrAf7oTJ07GbQWRjX9brF1YutwOZcwOxJzjNerYtX/8w7eD1m262Z/+/DgQc+rWa+XbgEbBQhVuuQ7wn27EiHFxW0Fk498Xa4s/soOvpQdizrFK1eJjrVnzjvbfv/o7EHOq12js24BGjlwlb7kO8J9u8JAP4raCyAaxBvyLEWsAsQYIsQYEFLEGEGuAEGtAQBFrALEGCLEGBBSxBhBrgBBrQEARawCxBgixBgQUsQYQa4AQa0BAEWsAsQYIsQYEFLEGEGuAEGtAQBFrALEGCLEGBBSxBhBrgBBrQEARawCxBgixBgQUsQYQa4AQa0BAEWsAsQYIsQYEFLEGEGuAEGtAQBFrALEGCLEGBBSxBhBrgBBrQEARawCxBgixBgQUsQYQa4AQa0BAEWsAsQYIsQYEFLEGEGuAEGtAQBFrALEGCLEGBBSxBhBrgBBrQEARawCxBgixBgQUsQYQa4AQa0BAEWsAsQYIsQYEFLEGEGuAEGtAQBFrALEGCLEGBBSxBhBrgBBrQEARawCxBgixBgQUsQYQa4AQa0BAEWsAsQYIsQYEFLEGEGuAEGtAQBFrALEGCLEGBBSxBhBrgBBrQEARawCxBgixBgQUsQYQa4AQa0BAEWsAsQYIsQYEFLEGEGuAEGtAQBFrALEGCLEGBBSxBhBrgBBrQEARawCxBgixBgQUsQYQa4AQa0BAEWsAsQYIsQYEFLEGEGuAEGtAQBFrALEGCLEGBBSxBhBrgBBrQEARawCxBgixBgQUsQYQa4AQa0BAEWsAsQYIsQYEFLEGEGuAEGtAQBFrALEGCLEGBBSxBhBrgBBrQEARawCxBgixBgQUsQYQa4AQa0BAEWsAsQYIsQYEFLEGEGuAEGtAQBFrALEGCLEGBBSxBhBrgBBrQEARawCxBgixBgQUsQYQa4AQa0BAEWsAsQYIsQYEFLEGEGuAEGtAQBFrALEGCLEGBBSxBhBrgBBrQEARawCxBgixBgQUsQYQa4AQa0BAEWsAsQYIsQYEFLEGEGuAEGtAQBFrALEGCLEGBBSxBhBrgBBrQEARawCxBgixBgQUsQYQa4AQa0BAEWsAsQYIsQYEFLEGEGuAEGtAQBFrALEGCLEGBBSxBhBrgBBrQEARawCxBkhUY+3q1at29uxZW7x4sQ0ZMsS6detmnTp1ijd9+vS4NRM/iDXEKmININYAiWqsfffddzZlyhTr2bOnlS9f3nLmzGn169e3IkWKWMGCBa13795xayZ+EGuIVcQaQKwBEtVY279/vweaoqxmzZpWqFAhW79+vXXv3t2jbcSIEXFrJn4Qa4hVxBpArAES1Vjbs2ePvfHGG7Zy5UobMGCAVaxY0a5cuWIXL160rl27WosWLeLWTPwg1hCriDWAWAMkqrG2d+9eS58+va1bt85GjRpllSpVso0bN/rjjRo1srp168atmfhBrCFWEWsAsQZIVGPt4MGD1rRpU/vkk09sxYoV1rFjR2vVqpW1b9/eD4PqooNIB7GGWEWsAcQaIFGNtfPnz/us2uHDh+3o0aO2fPlyq1WrllWpUsWGDh1qu3fvjlsz8YNYQ6wi1gBiDZCoxprGtWvX4v7r+tDfw5IyiDXEKmININYAiWqsHT9+3AYPHuznqF26dMl27tzpV4Xmy5fPOnfubFu3bo1bM/GDWEOsItYAYg2QqMbaF198YcWKFbMNGzbYoUOHbMaMGX6PtTZt2ljDhg095CIdxBpiFbEGEGuARDXWdE5a6tSpbc2aNbZp0ya/35pC7bPPPvOLDHRFaKSDWEucQxmz27Gyle34O/XseK36drRk+X8uT5PRDucuaMer1ry+/O137EiBYnYwbcYbniOhQ9ly+3P4+iFHipWxQ1ly/nN5xrfsaIlydrxmXXe0TCU7lDXXP58jbSY7WrysHa9Wy47XqGvHKte4vvz1DP9cBz+JWIuO3/3hIbvv/uftjXR5LWu2Ipbmjdz22OOv2q9/+8BN6/7Pr++zBx9+0dKkzR1at6hlyFTAHn38FX+O8Dr3PZDSXn4lmy/PEnq+x59Mbf/7f4/FL7/rnmftxZey+LKMmQtasuRv2v/d8UT8ckSGWIsOvUcfe+JVf1/qvfvyq9nt/gdT3nJdbQdPPZPG3gxtM1myFrH0GfPbX//+nP3md9e3mV//5n7fLl5Pm8u3qTfT57P7Q9tFeDv57e8ftL/9PYVva1r+xpt5fDv57e//uR0hMlGNNd1nLU2aNLZw4UIbP368NWnSxJYuXWqnT5/2w6DE2r/OkcIl7dyU6XZp5y67/MUXdnb8pPhlh7Lksm9btLGLa9fb95/ssIvrN9p33Xvboex5bniOhBRYZ8ZNtO8/3elOjxwTiofq8csVZ2c++NAubd9hl7Z9YudmzrZjoRhUGCrUDuUqYGdGjrZLGzfbpa3b7eKqNXYsFIkHQ1GZ8HXw44i16PjbfSmsZKlqNmv2Ilu/fotNmzbX6tRtaXfe/bTvlBKuqx1a6TI1bfqMebZu3WZbvnyNx4ICTst/FdpJFS1WxUaOHO/PtX7DFqvfoLUle+5NX64A1M7pvcGjfLl+vnOXfpbyhYw3vRYSh1iLjmeSvWF167X096zem6M+mGDFS74des/ef8N6v/rNfaEPF09a02Ydbd68JbZ27cbQfnyV5clb2u75a7LQ+/jv9ue/PGm1aje3KVPn+HPNDa1XukwNDzY9xz33JrPCRSrZ1NC2puUzZy2wRo3bevCxHSRNVGPtm2++8Vt0FChQwDJkyGDVqlWzU6dO2cmTJ61Dhw7WrFmzuDUTP4i1xNFM2IkGTUKa2tmp02+ItRP1Gtvp94baqT797UjR0vZdp252avAw+7ZV2xueI17Gt+z0iA/szNgJdrR0RXdu+iz7rnd/O5ghm69zZsw4Ox16jmM1avsM3LkZoeVde3o0HsqWx0717Gunh4ywb5u969FxZvhIOzVwiB2t8PbNr4dbItai4/U0uXxnU6x4VXshVWYrU+4dmzZ9rr2SOrv96c+P37Bu5qyFrXmLzr6jevLp161UaAfUtl0PK1+hts8qPPLYy9aj53vWuk13ey5Fep+t006vUuV6vhP6458es1GjJljjpu3t1dfe8teeMXO+lSxd3Xd0CV8LiUOs3T69N8uG3vcfjp1i6TLk8/dui5adrU/foT5Dppmw8Lp3hEKscNHK1qlzX6tYqa699HJW/9+ga/cBPsumDzSaOZ44aaZVDL3vtU0VLFzRFi1abunS5/PXeuHFTLZ69QYrU7amr1s0tO0p6LS9/PkvzDInRVRj7cKFC7Zlyxb/flDNrOmbDPTl7ufOnQv9D7fa/x7pINYS6Y3MdjhnfjtSsLjPaCWMtVN9B/os2NFylf3Q55ESZe3UgMF25sPxNz6H6PBl+Sp2ZtQY+65XP39eOT10RCj4htnRspV9pu78wsXXZ+cy57CD6bPZd9162qlBQz0MD+ctYhc+WmYnO3Txw62HMuXwWbVzM+d4vN30mrglYu326ZBkgYIVbMmSlb4D0WEaBVS//sOtQmhH9MijL9+wfv0G7/pOLHNop6SdzkOPpLIuXfv77Jh2UgUKlrcOHXtbiZLVPN4UewMGjrCGjdrak0+97jvB8eOnWanSNewP//uoB5p+vm69VvbKq9lveC0kDrF2+3ToXu/BIUNH+yH53/zuQSsSF2SFilS6IaB0ykDv3kOsTt1WlioUar//4yP+wUVxpg8tDz6cyv9U6Onwp7apZM+ls/nzP7KiRav4dpAz9L/TmjUb7bU0OUPLH/ZgGzDofatcpb498WTqG/5tSJyoxpqGbtGhw6EKs8WLF9tHH33k568dOHDA78MW6SDWIqNgOz1i1A2xdjYUZWfHTvAZM38sQzY71WdA6P+3S+PXiZcuayioWtnpIcPt2+at4x9XeJ0aNMS+bdrKjhQq4bF2sk2H68tDMafz1vS6Hmih5Zf37rMTjZqFni+LHxrV+W4Xlq+y7zp3/+dr4ScRa7dP58mUr1DHZxQefewVf+yZZGmtbv1W1qZtD0uRMsMN6/fuM8SaNG3v57Tp7wo27dDee2+UH8LRoZyGITqHJ/wzmmVr2qyDB95bOUrYkCGjfWelZdoxKgoVgLnylI7/GSQesXb7UoY+qDQKfaDo0KFX/GOa5dKHDL13ddgy/Lhmj+fMWeQfOP4eCjc9psP/M2cu8EOfKV/I5LPN9ULbUPJQpGn5Aw+96DPKlUIxpu1ApxLoEOmzyd7w5doO69Rr6duKZurCr4XEi2qsXb582b/FYPTo0da4cWP/uqnKlStbu3btPNq+/fbbuDVvPXS7jxMnTtiXX37pdGPd4zNm33JHhlu7VaydmzzNzk6YfMN6p3r3t4ur1t7wmEuf7XqYDRxsJ+o3iX9c57xpNu5kx652rHyV67NkzeNmydJm8sd8Nq5HHztSpJRd+eaQnajb6J/PG3Jx7QZfnvAx/Dhi7fYlT5He3q7eyPoPGGEPPZzKH9NJ1tqp9Oz13k07jmHDP7TGTdrZPX9NHv9Ym7bdbeCg9+2Jp1Jbx059rHbdFn4INby8QcPW1iS0w9Oho2Ilqoaed7BlylLIl2k2ToeIFIaayQj/DBKPWLt9ad/ME/qg0c7f2+HHXnolm9Wq08JnjfVBJPy4wmrV6vV+ztkddz4V/7hm1nSu5xvp8liv3oOtctX6oW3iNV+m2TjNtFWv2cS3Ay3TtqQZOS3XDHWFSnWsW/eBflFC+DmReFE/Z00XEegbC7p16xaq8zk2a9Ysv21HjRo1/PtCf2ps27bNunTpYpkyZXL66qp5rf45u4Ofl+hY66VYW3PDY+5fGmvribUIEGu3j1j75SPWbh+x9ssX1Vjbv3+/Zc+e3caOHev/rZvkHjt2zHbs2GEtW7b023j81NDFCLt27bJly5a57du321fjJtxyR4Zbu+Vh0DHXD4Pq3DF/LGN2Pwx6ftGS+HXi6TBo05bXLw4IBVr4cUWaDoOeaNLCDhcs7j97sm3H68t1GPSdenZ6+Cg72f76YdDv9+y1E42a+/P5YdCsuezC8pV+cUP8a+EnEWu3T2Gm82vGjZ/mJ1LrMR2a0RWcrdt0sxTP33gYVDshHQbVDkt/12HQzp37+dWd9/4teSjM2vhOT7f0CP9M21CI6VBSpsyFLFv2YjZ06BjLmbuUL9Nh0EpV6vlh0PBjiAyxdvuefyGjHwbVh43wYzrfTIf1FXB3/+Aw6KzZC/1Qps5102M6DDpr1kI/DKpTB3Q4U9uQPgxpuQ6Djh49yS+00XagQ6i6iOfZ5Nevktb2VK/+u/Zu625+Hlz4tZB4UY01nav2+uuv26JFi+zixYtxj5qdPXvWD4Xq0Gikg3PWInOrWDvVu59fYOC33tAFBGUq+pWZeizhz7q45Vp2qu8AO/hmFqfn1NWfR0tV8IsKzi9Y5LNkfu80nQPXq59fYHC8dgM7nLfw9QsQOne3I4VL+Plqx2vV8ytKv23S8ubXxC0Ra7fvzruetnz5y4U+/K2xVC9lsd//8WGfZRgUii9dFapP/AnXr12nReiDZWd7K2cJDzXtZHSBgHZymiXLnbe0derS18qUfcevoLvjzif9fLaGoYjTOXG6PcLEiTP8yjutr8BTAGpGQq+f8LWQOMTa7dM9z/QeHD58rM+W6b1bvGQ169Ktv+XNX/aG+wDqPLVu3QZYg1CMvZo6h/3xT4+GoiydjZ8w3d/XDzz4gl8lPWDg+5YhYwHfpvShR1eDajZO28FbOYr7LTt0nzVdoKD7Eg4dNsYqVKwTfz4oIhPVWNM3GBQvXtwGDRpkK1as8Bm1Tz75xBYsWGDNmze3Hj16xK2Z+EGsJVL6rH74UTNc52bMDsXUYr8Xmm6Ge6JhUz+seToUaMcqVvPI0q08dLFA+GcP5yzgoed/z5DdZ9Z0n7Vj1Wq5s9NnXj+Emf76rTtODx/pFyHouXV/Nb3myU7d/GrUQ1lzh0Kth50e9r7PvukmvTpEqqtSdTVp/L8ZP4lYu30Krldfy+G3DShXobalz5Dfqr7d0CaEgkqHQHU1qHZOum+U1tdyzZJpBkCHOqu83cAPg5YsVd3vofbQIy/5YaN2HXp59OXMXdJGjBjrOzG9lm7doV+qzVt08tscZHurmJ9orduG3H3vszf9+/DziLXbp/dmiVLV/CKAXLlL+XtXs2Pdew7y2eeHH33JD4XqA8afQ+GmgOvYqa/VqNnUdGPneg3etQ6denucaR3N1H04dqov1zajWTjNvKV9I4+/1vMpM9rixSv8cKh+Rtve9Bnz/RAoN4hOmqjGmmbQdBPcnDlzWsqUKf1ea+nSpbOnnnrK77GmcIt0EGuJo/unnVuwyC5/8aX9I/S/w9Vz5+zy51+EAmmQR5uu7Ly05ePQY1/6TWq/69bLDsYdFvV7r3Xv5fdJCz+fbrVxZvxku/zVAXd65Gi/pUf86xUrY2fGjLXLn30ees7P7dysOR4Xvlw3xg0F25kPxtr3O3ba5X377eK6jddn9nRYNO458NOItejQ7FbBQhXso6WrbM+e/TZ/wVJ7p1YzD7QixapYjXea+r2ndDNQ3WFdh3Dmzf/Idu/eZxs3brVq1RvdcE6PnmvMh5P9uXbu2uszFk/FnZujG4zqXlPDQwG3O7T8448/8atJw4eLEDliLTp0flmt2s1sV+h9vWfPZzZu3DR//yu+NKNcvmIdv2pUsaXZsKah3znLlq22Tz/dbevWbbIcOUvYX+66fg6bfkb/u8ydu9jf58uWr/FzMjWDp+V33f2M5c5T+vp2FFquW+fotjgJD7ciMlGNtX+Ediw6T+3jjz/2bzGYNm2a0/ln+nL3M2fOxK2Z+EGsJVL6bB5dx8pVsWOVq/vXO+m/D+cpZIcyZLdD2fP6IUw9drR0BTucq+D1qIr7Wf39cK4C8c+nQ52aJTtWvqo7kr+of8XUDa9XoNj11wvRrN6hTAmWp83ky3VIVV+DpRvn+nK+birRiLXo0D2ltJPQbIDudaZzbvQ1Owqre/+a3P87fCK1dlQKMx3W0bo6dKnzdhLeNFS3OdDhTs286St7dFjoD//7SPxy3VRUX9Wjn9fsnc6V06Gk8HJEhliLDr1H9V7Xe1bvXZ27qfsA6ny0+0PvYX3TR/gm0doOdIqAbtPx8qvZ7MVUme3OUICFv6JNP6Pt4rnn0/v7XJGn5wpvJ1rvrnue8W1Ny7Xt6by28NdVIXJRjTWF2oABA+zzzz/3WTZdXCDff/+937pj7ty5cWsmfhBriFXEGkCsARKVWLty5Yrf8FY3v9UXuesCA30faJjur9a6dWu+GxSIALEGEGuARCXWFGM7d+70W3akSJHCBg8e7F8vtWrVKqd4033WuBoUSDxiDSDWAIlKrG3YsMFvZqsLC+6++27LkiWLFStWzOnq0HLlyvnMmqIt0kGsIVYRawCxBkhUYu3w4cMebJpZq1Onjo0cOdK/uUBmz55t8+fP94sOdP5apINYQ6wi1gBiDZCoXmBw7tw5P/wpy5cvt82bN/vjuthAX0WlqIt0EGuIVcQaQKwBEtVY07cW6Ea4nTt39sOfuqDg2rVrduDAAb+Fh2bZIh3EGmIVsQYQa4BENda+/PJLK1u2rPXs2dMvKKhatao/fvnyZevatat/i0Gkg1hDrCLWAGINkKjG2r59+yxz5sw2Z84c69atm1WpUiVuiflsG7fuABKPWAOINUCiGmv6loJMmTLZypUrbeDAgfEzaydOnLC2bdsyswZEgFgDiDVAohprX331lVWuXNkmTpzo3wVatGhRP4dN56u1bNnSv90g0kGsIVYRawCxBkhUY+3ChQt+BagOfz799NN2//33+xe560a5nTp1si+++CJuzcQPYg2xilgDiDVAohpr+mqpefPm2dKlS/0ea5pJq1WrluXIkcP69u1LrAERINYAYg2QqMaa7qVWt25d27Ztm3399dc2ffp0K1++vJ+rpm8wmDRpUtyaiR/EGmIVsQYQa4BENdZ2797tX+S+Zs0a/299R6i+akr3V2vYsKGfxxbpINYQq4g1gFgDJKqxtmfPHkubNq1/e4EOh+oK0MmTJ9vJkyf9u0P5Incg8Yg1gFgDJKqx9tlnn1nevHmtXr16VqJECZ9V0+HQ8+fPW8eOHbnPGhABYg0g1gCJaqydOnXKLyzQ4c9evXr5LTy+//57f1y379AsW6SDWEOsItYAYg2QqMaavgdUcabz1XRIVIc/NfRF7roSVN8RGukg1hCriDWAWAMkqrH2rxjEGmIVsQYQa4AQa0BAEWsAsQYIsQYEFLEGEGuAEGtAQBFrALEGCLEGBBSxBhBrgBBrQEARawCxBgixBgQUsQYQa4AQa0BAEWsAsQYIsQYEFLEGEGuAEGtAQBFrALEGCLEGBBSxBhBrgBBrQEARawCxBgixBgQUsQYQa4AQa0BAEWsAsQYIsQYEFLEGEGuAEGtAQBFrALEGCLEGBBSxBhBrgBBrQEARawCxBgixBgQUsQYQa4AQa0BAEWsAsQYIsQYEFLEGEGuAEGtAQBFrALEGCLEGBBSxBhBrgBBrQEARawCxBgixBgQUsQYQa4AQa0BAEWsAsQYIsQYEFLEGEGuAEGtAQBFrALEGCLEGBBSxBhBrgBBrQEARawCxBgixBgQUsQYQa4AQa0BAEWsAsQYIsQYEFLEGEGuAEGtAQBFrALEGCLEGBBSxBhBrgBBrQEARawCxBgixBgQUsQYQa4AQa0BAEWsAsQYIsQYEFLEGEGuAEGtAQBFrALEGCLEGBBSxBhBrgBBrQEARawCxBgixBgQUsQYQa4AQa0BAEWsAsQYIsQYEFLEGEGuAEGtAQBFrALEGCLEGBBSxBhBrgBBrQEARawCxBgixBgQUsQYQa4AQa0BAEWsAsQYIsQYEFLEGEGuAEGtAQBFrALEGCLEGBBSxBhBrgBBrQEARawCxBgixBgQUsQYQa4AQa0BAEWsAsQYIsQYEFLEGEGuAEGtAQBFrALEGCLEGBBSxBhBrgBBrQEARawCxBgixBgQUsQYQa4AQa0BAEWsAsQYIsQYEFLEGEGuAEGtAQBFrALEGCLEGBBSxBhBrgBBrQEARawCxBgixBgQUsQYQa4AQa0BAEWsAsQYIsQYEFLEGEGuAEGtAQBFrALEGCLEGBBSxBhBrgAQ+1q4cOWIXFi4BYs7F9Rvt2rVrvh1s2/apjZ8wHYg5Gzdt9W1AY/nyNbdcB/hPt3//F3FbQWTj3xZre/d9bv36DwdizqRJM+3q1au+HVy9fNH+ceEUEHOufn/BtwGNmTMX3HJbAf7TfbJjV9xWENn4t8XaxNAO61ZTgsB/utfT5LJ/xB0G/ce5b+3y8c+AmPOPs8d8G9DgMChiVeAPgxJriFXEGkCsAUKsAQFFrAHEGiDEGhBQxBpArAFCrAEBRawBxBogxBoQUMQaQKwBQqwBAUWsAcQaIMQaEFDEGkCsAUKsAQFFrAHEGiDEGhBQxBpArAFCrAEBRawBxBogxBoQUMQaQKwBQqwBAUWsAcQaIMQaEFDEGkCsAUKsAQFFrAHEGiDEGhBQxBpArAFCrAEBRawBxBogxBoQUMQaQKwBQqwBAUWsAcQaIMQaEFDEGkCsAUKsAQFFrAHEGiDEGhBQxBpArAFCrAEBRawBxBogxBoQUMQaQKwBQqwBAUWsAcQaIMQaEFDEGkCsAUKsAQFFrAHEGiDEGhBQxBpArAFCrAEBRawBxBogxBoQUMQaQKwBQqwBAUWsAcQaIMQaEFDEGkCsAUKsAQFFrAHEGiDEGhBQxBpArAFCrAEBRawBxBogxBoQUMQaQKwBQqwBAUWsAcQaIMQaEFDEGkCsAUKsAQFFrAHEGiDEGhBQxBpArAFCrAEBRawBxBogxBoQUMQaQKwBQqwBAUWsAcQaIMQaEFDEGkCsAUKsAQFFrAHEGiDEGhBQxBpArAFCrAEBRawBxBogxBoQUMQaQKwBQqwBAUWsAcQaIMQaEFDEGkCsAUKsAQFFrAHEGiDEGhBQxBpArAFCrAEBRawBxBogxBoQUMQaQKwBQqwBAUWsAcQaIMQaEFDEGkCsAUKsAQFFrAHEGiDEGhBQxBpArAFCrAEBRawBxBogxBoQUMQaQKwBQqwBAUWsAcQaIMQaEFDEGkCsAUKsAQFFrAHEGiDEGhBQxBpArAFCrAEBRawBxBogxBoQUMQaQKwBQqwBAUWsAcQaIFGJtWvXrtn27dtt/PjxduXKlbhHozOINcQqYg0g1gCJWqzNnj3batWqZefPn497NDqDWEOsItYAYg2QqB0GnT59upUuXdo2b95sBw4csKNHj9qxY8fiXbhwIW7NyAaxhlhFrAHEGiBRi7VFixZZkSJFLF26dFa/fn3r0aOH9e3bN962bdvi1oxsEGuIVcQaQKwBErVYW7t2rTVs2NBq1qxpzZs3t3bt2ln79u3jbdy4MW7NyAaxhlhFrAHEGiBRi7WDBw/a0qVLnWbZFixY4H+GH/vmm2/i1oxsEGuIVcQaQKwBErVY01WgJ06c8Bm0ZcuW2eLFi/1P/V2PJ/UqUWINsYpYA4g1QKIWa8ePH7eZM2da2rRp7dlnn7Unn3zS/9TfZ8yY4cuTMog1xCpiDSDWAIlarC1cuNCqVq1qI0aMsFWrVvl919asWWOjRo2yt99+2+bPnx+3ZmSDWEOsItYAYg2QqMXaxIkTrVChQrZv3z67dOmSP6Y/P//8cytatKjfMDcpg1hDrCLWAGINkKjF2pQpUzzKtmzZ4ueo6ea43377rd+yo3jx4jZp0qS4NSMbxBpiFbEGEGuARC3WlixZ4odB3333XT/kqWjTodHWrVv747oyNCmDWEOsItYAYg2QqMXaqVOn/Bw13WutYMGClj17dv+zQYMGtnr1al+elEGsIVYRawCxBkjUYu3q1at2+vRp/7opzaLNmTPHZ9Y2bdrkoablSRnEGmIVsQYQa4DcVqzpAgLdS23evHk/66uvvvIfjHQQa4hVxBpArAFyW7F28uRJP8xZoUKFn6Wb5CZlEGuIVcQaQKwBctszaytWrPDDnT/nwIED/oORDmINsYpYA4g1QG4r1q5du+bno+kWHWFHjx61nTt3+tWgn376qR07dswfD997LdJBrCFWEWsAsQZI1C4wOHv2rH9rQf/+/a1Hjx7WvXt3/1N/1+NanpRBrCFWEWsAsQZI1GJNs2k9e/a0fPnyWeXKla1WrVr+Z/78+f1xLU/KINYQq4g1gFgDJGqxpq+bKlCggH9jgb69QOPChQt+KFRfQzVu3Dh/LNJBrCFWEWsAsQZI1GJN3/2pKNMVouF7qoXvvaavoRo7dqw/Fukg1hCriDWAWAMkarE2e/ZsK1WqlH344Yd+ccH+/fvt448/9hm10qVL28yZM+PWjGwQa4hVxBpArAEStVjTRQS6qKB+/frWu3dvGzZsmPXp08f/rse3bt0at2Zkg1hLul/95j6756/J7JVXs1u2t4pZxsyF7Nnkb9qf/vz4Tev+z6/vs7vvfdZeS5PTsmQrYpmzFLbnnk9vf/jfR+LXueueZy3li5kse+i5smUvZilSZrC/3PVU/PI7/vKkJXvuTV+mdV5Mldnu/Vvy+OWIDLEWucN7N9vGZbNt8YxxtmzORPt82yp//OKRffbpuiW2ZtF0WzFviq2YO9k+mjXBls+dZHs3L7/peeT7Y/vt2P6Pbeuq+bZ09kT/uV0bPrLvvvzEl186us9OH/g0tHxB6Hkm+/ItK+bZqa92+M/KmW922rbVC23l/Km+zublc+270PKLR/be9Hq4NWItOv73/x6zx59M7b+ftT94NfVbdv+DL9xyXe0Pnn42raXLkN+yZi9qGTMVtL/9/Tn7ze8e9OW//u399tgTr1raN3L7c6UPrafn+t0fHvblv/39g/a3+1JY2jfz+PI30+W1J556LfT4Qze8DhIvarGmQ56HDh3ySKtTp46VK1fOateubUOHDrWDBw/G73QiHcRa0v3+jw9bjpwlbPiIsbZu/WZbvGSFdejY24NNG+ON6z5i6TMW8P9/r1y5zlasWGsdO/W2J59+PRR99zttkH37DbN16zb783Xp2t/SpM0d/xyvpM5ubdv19GVaZ+Cg931D1c8mfC0kDrEWOUVR3ZpVLWumDJY9SyYbPaSvP3724C7r3aWtVa1Y1koWLWTFCxfw5XlyZrchfbve9DwKrQuH94aCb5I1b1DLCuTNZcWLFLDObZrbJ2sXe6id+Xqnfbp+iTVvWNuKFMxnJYoUtPq1qvlj5w7ttvMhn21dZS0a1bWSxQpZkQJ5rd47b3vcKdh++Jq4NWItOp5N9obVrdfq+u/nkFEfTLASJat5eCVcTx/y/xz64N20eUebOy/0AWfNRvvoo5WWJ18Z//D/P7/+uy+vVbu5TZk6259L65UpU9PufyClP4fWK1K0sk2dNseXz5y5wBo1bmd/DQXfD/c9SJyoxdqVK1f89hy6p9qRI0c83PSn/n7u3DlfnpRBrCXdPfcm8///aQN96ZVsHlvzFyy1QkUq+SxawnVfejmr1anb0nr1GWKpQv+tDbNZaGNt+W4X/0R2X2gjrB1aPuL9cfbUM2ks9Ws5rFPnvtY1FGza+KRlq87Wp+9Qez1trtA6aa1f/+H+HA889OINr4XEIdYip5m0hdM/tAXTPrQq5UvHx5ri6+i+LXbg0/X25SdrbUcouDq2amJtWzSy+VPG3PQ8Wl8zZPXeqWoDe3ayLcvn2sals6xS+VI2dcxQO7J3s321Y621ad7A3uvT2WfoVs6fEgq3OjZ6aF/bs3m5fbF9jY0bMcBaNanvM32rF06zof26+d93b1x202vi1oi126ffz2XL1bKxY6faG+nyWrLn0lnzFp39w/djT7ziM2Hhde+488lQaFUJ/X7vZxUq1rUXX8pi1Wo0sm7dB/hRF+0P9NikybOsQqW69vwLGa1AIX1L0QqfidNrvfBiZluzdqOVDgWc/rtIsSo2d/5H/tp//ssTN/zbkDhRi7UNGzbYgAED/IKChBcYKODee+89W79+vT8W6SDWkkaHOl8OBdq0aXOtYOGKfjjzgYdesN6hGKtVp4Ufoky4vj4FdQ7FV+HQn3++4wn/BPR2tUY2fcb80Mb7lGXIVMCaNuvgn440U/bHPz1q9eq3sv6hINPsm2imrdW7XX1j1jo132kWCrguPruW8LWQOMRa5E5//al9vXO97dm03GpVqxQfawkpxA7u2mDVKpezYaF42r1x6U3r6PDmjnVL7J23K3mcaRZNgdapdTP/GcWbDonmy53D5kwaZcc+22rfhJ5zwqj3QgHY0MNtU2idVk3q2djhAzzcvv1imx9OzZsrh234aJb/O374urgZsXb79GFbH9qHDBlt/xf6/f6b3z3gv+v1gbtw6MN7woDSutpP6MN7qpey+lEXHcLUvrh8hTr24MOprHzF2qF1htqb6fLZ7/7wkJ/+Mj8UY0VDUaZ9Qc7Q/06akXvt9Zx+aFRxN2Dg+1alan174snXbvi3IXGiFmuTJk2y4sWL23fffeffbKChP8+cOeMXGEyYMMEfi3QQa0nz1789Z3nylrERI8ZZxswF/bG77nnGqlZr6LNl2bIXvWH9mu80tf4DhvsnLm18+nRUqnQNPxyqcw/KlnvHZ8k0Kxf+GX1S69FjkGXJWsR17NjHqtdoEr88d+j1m4QCr3JoAw0/hsQj1pLm3MHdHkd1qle5ZawpvLauXmCFC+S1aWOHxZ+DlpDOVVsya7w1rV/Llswc74+dDK03fsRA69u1nc/G6fy0DOnesNULptmlo/v9eTaHHlMkKuB0jlrl8qV9Ru3E59t8ne1rFvnP6PDqhcN7bnpd3IxYu32a3WrUqK2179Ar/jHNcjUMPaYP4ToKE378kcdetjlzF/nv/7/f/7w/pg/fOpSpQ586b7ltux5WN/RhPXlof6HlOnoyatQEq1Slvu8LNKOmQ6Q69KrlOleuTr2W1rpNdz+KE34tJF7UYk0xVqRIkVveukMRl5j7rF28eNGOHz9uX3zxhdNh1PdHjrvlPxw/TRtPydLV/bCkTvLUY5ohK1q8qrULbbB585W9Yf0GjdrY4KGj/VPVr3/7gD+mT0ma2taJpNpIFWsJZ8k0td2xUx//hCZt2na3cuVrxS9XJDZu0s7q1X83/jEkHrGWND8Xa19/ut5nyxRSqxZMvWm5HNq9yWaMG27tWjTy8+D02KkDO2z2xFHWs2Nrm/zBEFu3eKZlz5rZ1i+Z5cvPfrPL9m5e4Ydfp304zBbPGO/nx+kcNc34aZ2d65eEfiaTLZoxLv4x/DRi7fZpH6CjIvp9HH5Mp8boKEvnLv38SEr4cYXVqtXrfcZN+4zw45o40WzbG+nyWK/eg/1DuGbctOy+UNRpX1O9ZhPfF2jZsOEf+iyblj/0SCqrUKmOdes+0E+TCT8nEi9qsTZlyhSPNR0ODX+1lP7ctGmTP66b5v7c0A11u3TpYpkyZXKNGze2GjWZlUkKYu2Xj1hLmp+LtS0r51m7lo18hmzXLQ6BCrEWHMTa7SPWfvmiFmu7du3yW3WUKFHCrwJt0qSJ/6lZNT2emK+b0pfC796925YvX+50O5ABA4ff8h+On6ZbZuTKXdpGjhxvmbIU8sfuvudZq16jsbVo1dlPFE24vg5f6oKA557P4OcY+GHQMjVsxcp1viFrWluxpkAL/0z5CrWtZ8/3QlFWyCncdDg1vDxv/rI+xV6pcr34x5B4xFrS/FSs6SrOhdPGWqlihW3JrAl+uDPh8jA9rvPLmtR7xy8O0GM6DDp2eH/r2629X8Dw8cr5lv7NtLbKD4Pu8+Ubl82x2tUr29xJH/hh0KoVynjsnfh8q6+zffVC/xkt4/YdiUOs3T5dBKDDoPodHX7szfT54gPu7h8cBp01a6H/zg9f3anDoHrsndCHdt2ySYcz6zdobc+lSO/LNTkwevQk/12vfYEOoU6fPs/vPKDlCkB9aH+3dTe/gC38Wki8qMWarvhUXHXr1s3at29v7dq18z/1dz2u5UkZnLOWNH/802N+nsKMGfNDgVXZ/64TQwe9N8qDShtcwvULFKxgHTv29g1UVwPpnjn6lDR5yiy/f9oboU9mCq8WLTv7hquTVHW+w4ABI0Ib9yv2aIiuDG3Ttocv0+ycNk5dcBA+Zw6RIdaS5qdiTRcJjBs+IBRrhWzvlhV2/tCtzxvTeW26YrNm1Qo2+YPBPqt2eM8ma9O8oQ3v38O2rVrgFyYUyp/HZowb4fd305Wmer0O7zbx89R0TpuuNh35Xm/b//FKD8BF08daoXy5bePS2VxgkEjE2u3TB27Niuk2Tpot09Wfum1H1279/SiLfmeH19V5al27DbAGDdvYq6/l8IvJdM/N8ROm+7nL2jcoxgYOGmkZMhX0W0Rpf7Jo8XIrVLiS7wuyv1Xc1q/f4vdh08VtL7+a3WfadGHCo4+/csO/DYlzW7EWvoDg8uXLdunSJTtx4oQdPXrUPvkk9Alz40b/U3/X4zofLSmDWEs6fVrSSZ+NGre1zFmL+AUHs2YvsnwFynlg6dOQLjpQWOmTV42aTX12TTNxOoSqMGvYqI1vrLrIoEYo3rSx68a52hg1fd42FGeahVPA6XV0FdFbOUt4aPQPhZx+XodWb/Xvw08j1iKnGaxP1izyma9ypYpZl7bN/Wa4iimd0L9p2Rwb0CP0oaNRnRtm1S6Fwkn3Rft82+pQ0G2Jv3VHswa1rV/39n5BwEezxtvblcrazPHv27F9H/u5b13atrD+oefTBQXzpowOrV/LJrw/yONMt/bQ4dJWjet50M2fOsYG9uxonVo39cOlCf/d+HHE2u3T72jFmfYHufKUDn34zuuzY917DLLHQvH08KMv+U1vdSW/7gaggOvYqa9/sM+UuZDVb/Cu36MzQ8YCvo72Fx+OnWI1Qst1f87SZWvazFkLPM70Ws+nzGiLFi23KlUbeNDpKlLdWUCHQBOGIRLvtmJNgbZ6deiX25Ej9tlnn/l5az9GXz+VlEGsJZ2u6tTGNebDybZ372e2adNWv4pH5xGky6Ap8LZ+P7U7774ebGlDG/C06XNtx45dtnXrDusSijHNxinE9HxpQhui7suzb9/ntnvPfr/vTsIre1KGNuB27XvantBraZ3Bgz+IPwSLyBFrkdMVnJXKlbQ0r6e2FM8lt1QvvmAlihSwiaMGe5xplqxDqyY2ZcxQny0L/5xm2L7ZucHat2zs55vpMR2mXLtohjWqU8MyZUhnOd/Kal3btbCdGz7y5ZrB+3zrKmtUt4blyJbFb7CrG/LqGxH0s6Kg001z8+fJaW9lzWzvvF3RZ+Q0cxd+bfw0Yi06nngytb1Tq1n87+dx46f5LZsUX3XqtvBzyl5IldljS6fC6Ka4y5evsV279tr69ZtDH8KLx39jjY7UVKve2ObNW+L7luUr1vo5bprB03LtU3LlLuX39dwbeq2PPlrlR1p+eH9PJN5txZouINA3FOh8NUVbvXr1bklfObVy5Ur/wUgHsZZ02uh0SPPpZ9L4yaQ6LKpPUJqW1h2oE86saX09pnMMUr2Uxe/DpnMXFHzh59MnrsefSO3PpUjTdHbCr67SRq/nf+mVrL6OTj5NeIIqIkOsRU4za7s2LPVDkBuWzvaZtIQzazoM+oXPnm0OxdS++J/74cyaHtPs2skvt9u+LSv8/DR9bdSXn6yx03GhpXPQdFGBlmvZ9jULPdT0FVP6WVHQaZZNs33bVi+wPZuWeajpZ8OvjZ9GrEWH7pemoxzh38/6Oil904A+jOvctPDMmtbVvkMf1HV4U+eY6XYdd979dPy+Qj+jw6XJU6Tz50qRMqMfyflt/NdRPeDBljxF+uvLn8/gh091f7fwvweRua1Y+/777/1w57Fjx+yrr76yuXPn/qgvv/zSfzDSQawhVhFrALEGSNQuMND91L7++ms/f03nsunQqG7bsWLFCjtw4IBduHAhbs3IBrGGWEWsAcQaIFGLtS1bttjw4cP9prg6l23atGl+244MGTLY4MGD/Zy2pAxiDbGKWAOINUCiFmuKswoVKvgtOnbs2GE9evTw+6zNmzfPypQpY9OnT49bM7JBrCFWEWsAsQZI1GJt/PjxVrhwYT/cOXnyZL+/2pgxY/zWHUWLFk3U103dahBriFXEGkCsARK1WNPMmaJs9uzZPqOmmTV9a4Fm2hL73aC3GsQaYhWxBhBrgEQt1nTrjlq1alnJkiUte/bsfksPzbLphrg1atSwGTNmxK0Z2SDWEKuINYBYAyRqsaYLC/SNBbqfmmbU9HddGapY01Whhw4dilszskGsIVYRawCxBkjUYm3ZsmXWpk0bP0dNXy119epVv4WH7sWmm+fqz6QMYg2xilgDiDVAohZrOsypq0F189ukhtmtBrGGWEWsAcQaIFGLNd2io3z58n6umm6Eu3XrVtu+fbtt27bN/9Th0KQMYg2xilgDiDVAohZrY8eOtUcffdR+85vf2AMPPGDJkiWzF154wVKmTOl/cjUoEBliDSDWAIlarOnwpw6FTpw40W/jMWvWLL+NR9gXX3wRt2Zkg1hDrCLWAGINkKjFms5TO378uF8RumrVKtu1a5dfEaqrQPUl72fOnIlbM7JBrCFWEWsAsQZI1GLt1KlTfp6avrWgY8eOtmTJEr91x+HDh23RokV8NygQIWININYAiVqsrV+/3ho2bOjfVvDSSy9Znz59fLbtwIEDVqpUKZs0aVLcmpENYg2xilgDiDVAohZr+iJ3Rdnu3butXLlyNnDgQL/P2vnz561YsWJ+AUJSBrGGWEWsAcQaIFGLNV1YoFk1fcVU9erVbdCgQR5ruiFukSJF7MMPP4xbM7JBrCFWEWsAsQZI1GJt/vz5Hmn6uil9oXvbtm39HLYpU6ZY5cqVbc6cOXFrRjaINcQqYg0g1gCJWqx9/PHHfmFBnTp1LF26dH4oVMGWK1cu69Wrl18dmpRBrCFWEWsAsQZIVGOtd+/eNmzYMGvWrJnVq1fP4033XNPtO65cuRK3ZmSDWEOsItYAYg2QqMXapk2brHnz5la4cGHLnz+/1axZ00aMGGF79+61S5cuxa0V+SDWEKuINYBYAyRqsaYb3+qK0C5duljr1q2tXbt21r17d78qdMKECbZ///64NSMbxBpiFbEGEGuARC3WEg7dW033VdMFB8mTJ7c0adL4hQZJGcQaYhWxBhBrgPxLYk1fM6VvMNBh0ddff92/yJ37rAGRIdYAYg2QqMWavqhd91LTtxhUqFDBrwrVVaBTp07123kcOXIkbs3IBrGGWEWsAcQaIFGLtc2bN1unTp38nLV+/fr5YVBddHDixIkkXwmqQawhVhFrALEGSNRiTfdR04UEuvpT32IQrUGsIVYRawCxBsi/5Jy1aA5iDbGKWAOINUCINSCgiDWAWAOEWAMCilgDiDVAiDUgoIg1gFgDhFgDAopYA4g1QIg1IKCINYBYA4RYAwKKWAOINUCINSCgiDWAWAOEWAMCilgDiDVAiDUgoIg1gFgDhFgDAopYA4g1QIg1IKCINYBYA4RYAwKKWAOINUCINSCgiDWAWAOEWAMCilgDiDVAiDUgoIg1gFgDhFgDAopYA4g1QIg1IKCINYBYA4RYAwKKWAOINUCINSCgiDWAWAOEWAMCilgDiDVAiDUgoIg1gFgDhFgDAopYA4g1QIg1IKCINYBYA4RYAwKKWAOINUCINSCgiDWAWAOEWAMCilgDiDVAiDUgoIg1gFgDhFgDAopYA4g1QIg1IKCINYBYA4RYAwKKWAOINUCINSCgiDWAWAOEWAMCilgDiDVAiDUgoIg1gFgDhFgDAopYA4g1QIg1IKCINYBYA4RYAwKKWAOINUCINSCgiDWAWAOEWAMCilgDiDVAiDUgoIg1gFgDhFgDAopYA4g1QIg1IKCINYBYA4RYAwKKWAOINUCINSCgiDWAWAOEWAMCilgDiDVAiDUgoIg1gFgDhFgDAopYA4g1QIg1IKCINYBYA4RYAwKKWAOINUCINSCgiDWAWAOEWAMCilgDiDVAiDUgoIg1gFgDhFgDAopYA4g1QIg1IKCINYBYA4RYAwKKWAOINUCINSCgiDWAWAOEWAMCilgDiDVAiDUgoIg1gFgDhFgDAopYA4g1QIg1IKCINYBYA4RYAwKKWAOINUCINSCgiDWAWAMk8LF24MBBDzYg1ixessKuXr3m28G1K5fs6qWzQOy5fMm3AY0VK9beclsB/tPt/+zLuK0gsvFvi7W9ez+zvv2GATFn4sSZoVi76tvBhnVbbOigD4CYs2rFOt8GNK5eOmf/uHAKiDnXrnwftxVENjgMCvyLJTwM2r51D7v3/54GYk6juq19G9C4curQLQ+VAv/p/nHhdNxWENkg1oB/MWININYAIdaAgCLWAGINEGINCChiDSDWACHWgIAi1gBiDRBiDQgoYg0g1gAh1oCAItYAYg0QYg0IKGININYAIdaAgCLWAGINEGINCChiDSDWACHWgIAi1gBiDRBiDQgoYg0g1gAh1oCAItYAYg0QYg0IKGININYAIdaAgCLWAGINEGINCChiDSDWACHWgIAi1gBiDRBiDQgoYg0g1gAh1oCAItYAYg0QYg0IKGININYAIdaAgCLWAGINEGINCChiDSDWACHWgIAi1gBiDRBiDQgoYg0g1gAh1oCAItYAYg0QYg0IKGININYAIdaAgCLWAGINEGINCChiDSDWACHWgIAi1gBiDRBiDQgoYg0g1gAh1oCAItYAYg0QYg0IKGININYAIdaAgCLWAGINEGINCChiDSDWACHWgIAi1gBiDRBiDQgoYg0g1gAh1oCAItYAYg0QYg0IKGININYAIdaAgCLWAGINEGINCChiDSDWACHWgIAi1gBiDRBiDQgoYg0g1gAh1oCAItYAYg0QYg0IKGININYAIdaAgCLWAGINEGINCChiDSDWACHWgIAi1gBiDRBiDQgoYg0g1gAh1oCAItYAYg0QYg0IKGININYAIdaAgCLWAGINEGINCChiDSDWACHWgIAi1gBiDRBiDQgoYg0g1gAh1oCAItYAYg0QYg0IKGININYAIdaAgCLWAGINEGINCChiDSDWACHWgIAi1gBiDRBiDQgoYg0g1gAh1oCAItYAYg0QYg0IKGININYAIdaAgCLWAGINEGINCChiDSDWACHWgIAi1gBiDRBiDQgoYg0g1gAh1oCAItYAYg0QYg0IKGININYAIdaAgCLWAGINEGINCChiDSDWACHWgIAi1gBiDRBiDQgoYg0g1gCJWqydO3fOdu7cacOHD7du3bpZ+/btrW3bttamTRvr0KGDbdq0KW7NyAaxhlhFrAHEGiBRi7Xdu3db//79rXLlypYsWTJ7/vnnLUOGDPbcc8/538eMGRO3ZmSDWEOsItYAYg2QqMXaxIkTrWDBgvbpp59auXLlbMCAAXbw4EEbNWqUvfvuu7Zq1aq4NSMbxBpiFbEGEGuARDXWihUrZt99951VqVLFY+3y5ct2+PBhK1++vE2ZMiVuzcgGsYZYRawBxBogUYs1xViZMmXs7Nmz1rx5c2vRooXNnj3bFi5caLly5bKxY8fGrRnZINYQq4g1gFgDJGqxtmbNGuvZs6fHmsJNFxUo2HShQe3atW3p0qVxa0Y2iDXEKmININYAiVqs6WpQHfK8ePGinT9/3lasWBF/VaiuBD19OmkvRKwhVhFrALEGSNRiTeenKdi0c7l27ZpHm85fO3HihIealidlEGuIVcQaQKwBErVYW7dunfXt29fD7OrVq/6Y/tRhUV1ssHbtWn8s0kGsIVYRawCxBkjUYm3SpElWvHhxn03TzJqG/jxz5oyVKlXKJkyY4I9FOog1xCpiDSDWAIlarOnWHUWKFLFvv/32hpm1U6dO+S09xo0b549FOog1xCpiDSDWAIlarOkKUMXa+vXrfTZNQ4dAN2zY4I8r5pIyiDXEKmININYAiVqs7dmzx/r16+dhVr16datfv77/qb/rcX0dVVIGsYZYRawBxBogUYs1XQm6Y8cO69Wrl3Xq1Mk6duzof+rvelzLkzKINcQqYg0g1gC5rVjTBQTh23LoVh3Hjh3ze61t377dD39u27bN/67HtTwpg1hDrCLWAGINkNuKtUuXLvkXtB85csT2799vkydP/lFanpRBrCFWEWsAsQbIbcWaLiAYMmSI7dq1y6Otbt26t1SvXj1buXKl/2Ckg1hDrCLWAGINkNuKte+//962bNni31Jw4MABW7BgwS3py9y1PCmDWEOsItYAYg2QqF1goKHDot98843t27fPZ9sSOnnyZNxakQ1iLel+9Zv77J6/JrNXUr9l2d8qbpmyFLJkyd+0P/358ZvW/Z9f32d33/usB0LW7EUtS9YiluL59PaH/30kfp2773nWXngxk2XPUTz0fMUsRcoM9pe7no5ffsedT1qy59L5Mq3z4ktZ7N6/JY9fjsgQa7cvxVNvWM4sxaxk4apWJF8FS/lMuluuF/bK81ksV9bivm6BXGX95x+4+zlf9ve/JLPnn37TcmQuZkXzV7R8OUrZS89ltAfvSeHL77szmT318KuWK8v1n88bWp72lRx2313Jb3gNRIZYi9wX21fb2kUzbNGMcbZsziQ7sneLP/7dl5/YpmVzbNX8qbZ87mRf9tGsCf7f3+zacNPzyPlDe+zQ7o22bvFMWzp7oj/v/o9Xhh7f7csvHN5jR/d/7I/r+VYtmGY7139kl47us++P7fc/j4WWb1w625frtT5dt8TOfLPTl//w9XBrUYu1Cxcu2N69e+2DDz6wHj16+Be4t2vXLp4uOEjKINaS7vd/fMRy5ippw0eMtTVrN9miRcutQ8feHmwKuYTrKsoyZCxoEyfOsBUr1try5WusY6fe9tQzaULr3u/SZ8xvffsNs7VrN/rzdena39K+kTv+OV4NRWG7dj1tzbpNoXU22cBB73u46WcTvhYSh1i7fYq0qZNm2749n9muT/dalXJ1b7neX//8jEdZiyYdbM7MBbZh3WZbEdoGqlSo54GmdR67P5W983ZjmzZ5jm3csNUWLVhmzRq1sxeeTe/Ln3roFY+0mdPm+c9rea9uAy3Z42nsb3c8c8PrIfGItchNHj3YqlYoY1kzZbC3sma21aGA0uP7tqywpg1qW8UyJa108cJWuEBey5Y5o+XPndMWTh970/Mopo7s22Izxo2wapXKWsF8ua1K+dI2qFdnO7RnU3yIKcIqlStlRQrmtXKlilm39i3t28+32YUje+3M1zv99WtWrWhFC+W3YoXzW5e2LWzP5uW+/IeviVuLWqwtWbLEypUrZ+XLl7dWrVpZ165drVu3bvF0uDQpg1hLunvuTWaTJs+yOvVaWqqXstib6fPZgoXLrHCRSj6LlnDdl17JZnXqtrJevYfYi6kyW+68pa1Z847WqnVX+9//e8zueyBlaHlLG/H+OHviqdd8tq5T577WtdsAn5WTlq26WJ++Qy316znsyadft379h1uzFp3sgYdevOG1kDjE2u177cVsVqJwFStXsqYtW7LqR2Pt0b+/aHmyhz7YDB5tDWq3tDdezWXlStS08R9ODQVfFbvvzuT+XEtCH3jq1Ghu6VLn9hDcsH6L5c9ZxkMv0xv5bd7sRaGga+L/Xa5kDZs8foav9+xjr93ydfHziLXIbV+z0ONrwvuDLH+enPGx5rNkocj6+tP1dmDHOlsxd7K1aFTHOrRqYltWzLvpeRRjW1ctCEVaLpsyeoh9smaRzRw/wsqVLm5rF023k19st/VLZlrbFg1t5Hu9bHPoOaaPHW7tQ883ZcwQO7J3s//8sP7drU2zhrZt9QL/d/Xv3sF6dW5j332146bXxK1FLdb03aD58uXz89M+/vhjv7fap59+Gk9fQ5WUQawljQ51vhwKsKnT5lrBwhV95uyBh17wGKtdp4UHWcL1ixStbJ1D8VW4SGX78x1P2F///py9Xa2RzZgx3+648ynLkKmgNW3WwRo1buczZX/806NWr34r6x8KMoWZaKat1bvX407r1HynqQdctreK3fBaSBxi7fY98rcXfGYsw+t5bOG8pT8aa889kdbatupuHdv2stzZStj9dyW3lM+ktzkzF1qtak0tVfKMVrJIVZs8cabH2f13PWevp3rLZk6fb9UrNwyFXHYrnLe8bdm0zd7KVNQevPf5UPDl9OeTN17JecvXxc8j1iL3bSiivtqx1lbMm+KzYeFYS0izZmtCwaWZsOljh9nXO9fftM7xz7baolBcFS6Qxw+fnju4y+OrVZN69uGw/n44dM6kUVY+9BwKsVMHQvv79R+Fwq23Nan/ji+fPWGkdW7TPBR579vJL7fb4T2bbczQfj4Tp+fnUGjiRC3WZsyYYRUrVrRDhw7ZlStX4h69/UGsJc1f//ac5clbxkaMGGcZMxf0x+665xmr+nZDa/luKKCyF71hfYVV/wEjLFnydPa7PzzkM2WlStew5SvW2t/uS2Fly9XymbZCRSrF/4we69FjkJ/fJjrEWr1Gk/jluUOv3yQUeJWr1o9/DIlHrEXHQ6FwSvPSW7Zg7kc/GmsvPZfJxo6ebHVrNvcZND2m4Jo6aZY1rtfGcmYuZg3rvGt9ew6xjGny+fLnn07nf2/WqL0VzF3OZ+/Wrtnk4XZ9+ZtWpXxd+2DEeA+48GshMsRa0nz31Sd+HlmhfHluGWsKJwVU/jy57OOV8/wcsh+u88X2NTZ59JDQB5JytmfTMn/ss62rfKasZ6fWfh7apA8G+6HNo/u2eHgd3rvZ5k4ebUUL5rMd6xbbB4P7WMvGdW3nho/sbCj2NFs37cNhfsj0m1AgXuRQaKJELdYWLVpkNWrU8HuqaWZN91VLSF/o/nMjfGPdzz4LvSFCFH4j3h97yx0ZfpoOPZYsXd0PS6Z9M48/phmyosWrWrsOvSxvvrI3rN+gURsbPHS0H+789W8f8MeKFqtiixevsMeeeNVq1W7usZZwlqxIaHnHTn2scNHKrk3b7laufK345YrExk3aWb3678Y/hsQj1qIjMbH2asqsNnvGQqtWqUH8OWi6cGBUKLSaNmhnJQpVttbNu9wwS6bZuPbv9rC2LbtZhVLvWNUK9WzBvKX2SsosvvzZR1/zQ7BTJs6yvNlLxr8WIkOsJc3PxZriSdFVrVI5O/DpupuWiwJNM2hN6l2fJdNjX+1YZ+PfH+iHTnWumv67bMmiduLzbb785Jef+EULObJl8dm2oX27+c9r5k4XI2idWRNGWsmiBf0cunNxFyrgp0Ut1saPH2/PPPOM3XXXXZY8eXJLnTq1pUmTJp4Ok/7c0DcedO7c2TJkyOAaN25s1WvUu+WODD+NWPvlI9aig1j7ZSPWkubnYm3+lDHWqXVTGz6gux3/7OOblguxFhxRizXNninYRo4caePGjbOJEyd6oIXpdh4/N/TVVfpCeN1AV3Te28CBw2+5I8NP0y0zcuUuFfrfY7zfskOP6dYb1Ws0thatOluWbEVuWF+P64KAFM9nsN/94WE/DFq6TE1bsXKdH1ItXaaGx5oCLfwz5SvUtp493wtFWSGncNPh1PDyvPnL+nluFSvXjX8MiUesRUdiYk3npI0eOdHqvdPCXk91/TCmDoNOnzLHGtVrY9kzFrH6tVpa/97DLFPa/L5ctwHp32eYNW3YzvLnLG1lS9SwDeu2xP+8lr9dsZ6NHDbOfz78WogMsZY0PxZrOlR58cg+G9KnqzWoVc22rppvZ7/ZdcPPhn35yVqbMmaoX1m6e+P1w6CKtiF9u1rvzm1t8/K5NvmDwX7IM3wYVBcwzJn0gRUvXMAPg44e0tfPcdN/hw+DTg09p65EPbhro//9h6+Lm912rOl7Qa9evWrnz5/37wH9MVqelME5a0mjCwBeeDGzXyCgwPrjnx6zhx5OZYPeG+VBpXukJVy/QMEK1rFjbytdtqbfL00XI9So2cQmT55ld/zlSZ+dU3i1aNXFLx74vzuesIaN2tqAASPskcdesUdDunbtb23a9vBlmp3TjJouOMiY6fo5c4gMsRYdiYk13V6jRZOO1q1TPyuQS1d3prCXU2S2ObMWWs2qjS3l0+n83mozps2zQnnK+6ybZtj0nG9XqO/rFsxd1jZv3OoXKDz8txcs/et5rEeXAdamRVd7PfT6t3pd/DxiLWl+KtZ0Jahur9G8YW0/d+3HgkkXKiyZNcEK5M1l6z+a5ee1bV4x12fKdKXp59tW27wpo61S2ZJ+/ppm1XQl6rB+3T3QdH7bvMmjrWu7Fn5um2bfdCWqzmPT4dcTn3OBQWLdVqwp1HToUld66ma4un3Hj/n666/9ByMdxFrS6fYcmllr1KSd3+hWM12zZi+0fAXK2aOPv2IPPvyi3XXPsx5Wz7+Q0eNMs2u6WKBUmRrWomVna9CwjYefLjKoHlque7alSZvb3spZwjp36eeHPjULp4BTvPXuPcRy5Cppad7I7Rcs6PCqDq3e6t+Hn0as3b5nHkltmd8sENqZ1La1qzf6Ycw3X81lyZ9I44cxn3syrd8/TVeNvpWxiA0eMNJahqItX47SfguOkcPH+VWeuuGtbpg7e8YCa9qgrV8RqkhbvnS15clW0q8OTf9abps4brpfkFA4bwWPPN36o3C+Cvb0w6lv+e/DzyPWIqcZq41L5/hVlzocOXpIH9u9aZkdi7v6csnM8X6F5qBenW74uYuhaNPtNHZvXOrhpYjT7Tp0mFPPtWLeZBs3YoBVrVjGNnw022+yq9m1Lm2b23u9O/vhTx021SFSXSWqe7DtWLvYRr3X21o1rmfL5k7ymbq+3dqF1u/iV48mfH38uNuKNX3NlK4AXb58uY0ePdoeffRRe+yxx5z+O0x/HzVqlP9gpINYSzpd1akb2X4wepLt3rPfNmz42ONKt9lIlz5fKK7a+P3U7rz7GQ82zZ5NmTrHtm/faVu2bPf7qCnowjfQVaTpHLi9ez+zXbv2Wtdu/e2ll7PGv56Cr227HrZr9z5f5733RlmmzNcPwSJyxNrtq1C6li1euNwOHzpq586dt+PHv/XzymrXaOaHNRvUbuXfOBBeX+enLVm0wvbu+cxvw1GuRA0/90zLFHSVy9WxebMX2/59n9ua1Rus3jvNLcWTb/jyx+5L5VeN6hYhe3bvtzWrNlj3Tv3tiQdfjn9+RI5Yi5wOPeqcsNSvvmLJkyWz1K+8bLWrV7ZF08fZpVCs9evW3q/mVFwl/LnToXj6eOV8e6dqBb9Vhx4L376jXKniljljeitVrJAN7d/NQ0zLFXVrF8/wm+xmz5rJD4l2b9/Sb/Oh2NN5auuXzLJqlctZjuxZLHeO7NapTTO/tYgOxyZ8ffy424o13aJD56rpXDNdxbl58+YfpeVJGcRa0mnGS4cw9S0EqUJRlfLFTPbQIy/5Pdf+HHr8gQdf8Nt5hC8o0GPPJHvD78H2Qsgjj73swRd+Ph3e1MUGCjQ9nw5/JvzqKt1f7eHQ82uZ1nniydR+UUN4OSJDrN0+zWilfSWnZU1fyN7KVMSyZShsaV/OYckef92SP57GKbLC62umTYc3dVNbHcbU10fphrha9rc7nrWnH0nth1Qzh5brxrg6fKp7soWX67n0/DqvTct1sYK+pir8/IgcsRa5Q7s32afrl/ghSx2e1OzX3s3L4+9rpqs/FUvhiwLCFFenvtphezYt98OoeuzC4b3+c7s2fOT3WNsZel59NVX4YgHdekPBpq+Y2rZ6oZ+bpnPd9Fx6LdFyXayg5dvXLPJbgpw7uNuXJXx9/LjbPmctPM6dO+eHQn/o4MGDoU+zx/3rqK5duxa3duIHsYZYRawBxBogUYs1fVn7sGHDrHfv3jZ48GAbPny4/6m/6/tCddPc9evX+6FTXZCQ2EGsIVYRawCxBkjUYm3KlCmWKlUq++tf/2qvvvqqZcqUyf+89957LUWKFPbiiy9aqVKlbN68eRFdGUqsIVYRawCxBkjUYm3OnDn+Je7Tp0/37wL98ssv/c9Zs2b5RQiaYRs0aJAVK1bMjhw5EvdTPz+INcQqYg0g1gCJ6syaZs50T7Xwd4PqT11YULZsWRszZoyHXJYsWfw8tsQOYg2xilgDiDVAohZrU6dOtSJFitjSpUvt888/92j74osvbMWKFVa0aFH/RoP58+dbtmzZ/Ds/EzuINcQqYg0g1gCJWqzp66Fq1arldHHBtGnT7P3337fatWv7Y7ox7rJly6xSpUoR3caDWEOsItYAYg2QqMWabs2hK0J79uxpVatWtRIlSliVKlWse/fufu6abu0R/kqq8A4oMYNYQ6wi1gBiDZCoxJrun7ZmzRoPMwXbli1b/DYd+lM3zQ3fY00iCTUNYg2xilgDiDVAojazpsOeOsR56tSpJN389scGsYZYRawBxBogUYu1mTNnWunSpW3x4sV+2FMXGegCg7AzZ87ErRnZINYQq4g1gFgDJGqxNnfuXMuaNat/cXv+/PmtWrVqfnFBmL7sPSmDWEOsItYAYg2QqMXa1q1brVu3bta2bVvr0aOH9evXz/r37x9v+/btcWtGNog1xCpiDSDWAIlarH377bf2ySef/Ch9J2hSBrGGWEWsAcQaILcVa5cvX/YQO3nypH8rgQ51/phIvrUg4SDWEKuINYBYA+S2Yk2RVq9ePVu7dq1/Q4G+yF1f3p46dWp77bXXbqDlSRnEGmIVsQYQa4Dc9szajh07PNp0X7UOHTrYhAkT/IpQfc1UQsysAZEh1gBiDZDbPmft4sWLvkPZtGmTtW7d2q8CbdKkib333nv+9VL6HlDde01hl5RBrCFWEWsAsQZI1C4w0H3VPvzwQ2vevLk1bNjQ3n33XevTp4998MEHfluPAwcOxK0Z2SDWEKuINYBYAyRqsZZwfPXVV36O2ttvv23JkiWztGnT2pQpU+KWRjaINcQqYg0g1gD5l8SabuOh89aaNm3qFxe8+OKLNnbs2LilkQ1iDbGKWAOINUCiFms6zDl16lRr06aNf2NB48aN/ea4Y8aM4TAokATEGkCsARK1WNuyZYt16tTJLzLo2LGjjRw50lavXm1Hjx61K1euxK0V+SDWEKuINYBYAyRqsaab4+pigp07d9r58+fjHr39QawhVhFrALEGSNRi7dq1a3b16lX/M5qDWEOsItYAYg2Qf8kFBtEcxBpiFbEGEGuAEGtAQBFrALEGCLEGBBSxBhBrgBBrQEARawCxBgixBgQUsQYQa4AQa0BAEWsAsQYIsQYEFLEGEGuAEGtAQBFrALEGCLEGBBSxBhBrgBBrQEARawCxBgixBgQUsQYQa4AQa0BAEWsAsQYIsQYEFLEGEGuAEGtAQBFrALEGCLEGBBSxBhBrgBBrQEARawCxBgixBgQUsQYQa4AQa0BAEWsAsQYIsQYEFLEGEGuAEGtAQBFrALEGCLEGBBSxBhBrgBBrQEARawCxBgixBgQUsQYQa4AQa0BAEWsAsQYIsQYEFLEGEGuAEGtAQBFrALEGCLEGBBSxBhBrgBBrQEARawCxBgixBgQUsQYQa4AQa0BAEWsAsQYIsQYEFLEGEGuAEGtAQBFrALEGCLEGBBSxBhBrgBBrQEARawCxBgixBgQUsQYQa4AQa0BAEWsAsQYIsQYEFLEGEGuAEGtAQBFrALEGCLEGBBSxBhBrgBBrQEARawCxBgixBgQUsQYQa4AQa0BAEWsAsQYIsQYEFLEGEGuAEGtAQBFrALEGCLEGBBSxBhBrgBBrQEARawCxBgixBgQUsQYQa4AQa0BAEWsAsQYIsQYEFLEGEGuAEGtAQBFrALEGCLEGBBSxBhBrgBBrQEARawCxBgixBgQUsQYQa4AQa0BAEWsAsQYIsQYEFLEGEGuAEGtAQBFrALEGCLEGBBSxBhBrgBBrQEARawCxBgixBgQUsQYQa4AQa0BAEWsAsQYIsQYEFLEGEGuAEGtAQBFrALEGCLEGBBSxBhBrgAQ+1ubMXWyPP5kaiDmFCleMj7X+fYbZyykyAzGnc/vevg1oXDlz1C5/+xUQc65ePBu3FUQ2/m2xduHCRTt06AgQc44f/9auXbvm28HZM2ftyOFjQMw5ffqMbwMa167+I+QKEHuuXY3bCiIb/7ZYY/y/HefOnbNly5bZsWPH4h5hMGJr7Nq1yz755JO4vzEYsTk2bNhgX375ZdzfGL+UQazFyDhy5Ig1btzYduzYEfcIgxFbY+LEiTZq1Ki4vzEYsTl69uxpS5Ysifsb45cyiLUYGV988YVlzJjRVqxYEfcIgxFbo0uXLta8efO4vzEYsTkqVKhgH3zwQdzfGL+UQazFyCDWGLE+iDUGg1j7pQ5iLUYGscaI9UGsMRjE2i91EGsxMg4fPmz16tWz7du3xz3CYMTWGDdunA0fPjzubwxGbI6uXbvawoUL4/7G+KUMYi1Ghq4GXbRokR09ejTuEQYjtsann35qW7dujfsbgxGbY+3atfb555/H/Y3xSxnEGoPBYDAYDEaAB7HGYDAYDAaDEeBBrDEYDAaDwWAEeBBr/2Hj22+/tUOHDtnFixfjv+KIwYjFoRtB796928/TvHLlStyjkY9Lly7ZN998Y6tXr+YbQBj/1nH58mU7cOCAbd68+bbew+Hn0PMlZr+gbzjYv3+/708YwRjE2n/Y0A5lypQpdvDgwdvauBmMX/rQtjBs2DBbs2aNX2CT1KHYmzlzphUvXpxb3zD+reP06dM2d+5ca926tZ0/fz7u0cjHnDlzrE2bNnbmzBn7xz/+Effoj4/p06fb2LFjbdu2bXGPMP5fD2LtP2xo59SgQQP/DkTNCDAY/6lDMwQ/NUug9//Zs2f9z9uZZb7dWLt69Sqz3IwkDb1vLly4YN99990t30OJfW/91HPcaigM9QFHM3GMYAxiLaBDG4lutdGuXTtr1KiRNWzY0MaPH++3Hvj444+tU6dOfoPPd99910aOHOkboj4F1ahRw1588UUrX768R9v69evt+PHjPsvQqlUrf64OHTrYtGnT4mfe9HwDBw60+vXr++v07dvX1q1b54dS9ZwDBgywZs2a+evpZ3Vo6fvvv/efZTAiGfpOQn1q1yGZ8NiyZYtNnTrVZs2a5Xr06GFNmjTxmQB9n6cOPWrnofey3qO9evXyZSNGjPDDNXr/a+ZB7922bdv6c5w4ccK/sHrMmDG2ceNG/3ltB9qmWrZs6d+T27RpU/+3KOa0vSnIOnbs6NtIixYtbOXKlXby5MmbYk3bjV63d+/evp6e57333rOvv/7an0fbk15X25H+nbqv1dKlS+P+r2Uwbhx6f2sWS7Nf4S9Y13ty/vz5/v4cOnSodevWzYNL3+2s+wXqBs/aN+h9r/ekfifrOz/1vtbjeh/rZ3bt2uXvfb3vu3fv7jNr2jYmTJjg+45Bgwb573b9t97j4X2CZvO0Tep2Nxo6UqNtUfsAvYZ+RvsIPd/evXutc+fOvkzbrbbPPXv2+P6DEb1BrAV06BsH9KavXLmyh5kiSRvPjBkzfGemjUMbrHY82tAUX9p46tSpY6+99prVrl3bN1rtFHUYSDuU8A5QEaeNTcu0M3r//fetUqVK1r59e9/I9ctBOzptbIpDLddr6WerVatmH374IffpYSRpaCeg99jgwYPjHjF/f+l926dPH/9Aofe63t/aEVWvXt0/aOicG31Yuf/++z3KtE3oLux6z1esWNHf0/o5BZReQ+faaHvRuto29D7X49pWtC1oXf079JiWbdq0ybclPY+CL7xD0rajG0onjLWvvvrKd5hVq1b1nwnvpBRn2vFqp/vOO+9YgQIFfBtUyOnfyWDcaujcSh0R0fstHPU6/KkPJtoO9J7MnTu3P7Z48WL/3Z4rVy7/EKB9hN7fej+WK1fOtx+9r/XfadOmtWXLltmpU6c8yvLmzesfWLQt6TnTpUvn25y2JX2rgX6/K7x0mFTbkd67H330kc/eaRvVe10fTsL7I30I0r9p37591q9fv/h9hNbRv1vneTKiN4i1gA7toLTT0EahnYU+wWinoh1Ujhw5fIZChzq1s1FklS5d2jcazZDVrFnTI0ufzvRpTDMPGTJk8PX1d23w2onpufWJTBulNlZtxHoNbYAKNW202rgVjvqktGrVKv+ZunXr+ic1BiPSofeYftnrPaRZKL3PFGUFCxb0HUTZsmVt8uTJPiOwYMECy549u+/I9MFCs1V33HGHn5OpGNNOSDujPHny2KRJkzyUtJ2Ez8tJGGuaGdBORB9KtEPSDIK2D9FORe9rBZru7K5/k14/W7ZsNmTIEH//J4w1bT+awdaOTv/36Lm1jb300ks+EzF79myPzKJFi/psm3Z2DMaPDf1O1vutTJky/h7XUQu9p/R7XrNlirKEsfb222/7e1F/1/tc71mFlH6P6/e1ZoI1q5YsWTKPrVvFmvYRen5dRKDtUN/sofe/ti1tE+FY0+tpeypcuLDvZ/Sz4X+z/p2if4eeR/sSfcjXBzG9tmaYGdEbxFpAhz69hz/9aKNRHIUPf95zzz2+Y3j11Vft5Zdf9j+1U9u5c+dNsaadhT7ZlyxZ0jcqDe18Ro0a5RugfkbT4+nTp7datWr5dLxmzfRLQBuifonosJC+VzRVqlS+EWbKlMl3qAxGpEPnzChyFGW6alnvP810aUeiANL764UXXrDUqVP7e/zJJ5/02TDNOOgwzLPPPht/aEbvTx0Wev31161YsWL+vJrBCh/KCceadkCaOQsf7vnheTt6v2vnp9mDzz77zB/TzkizE5ox0M8mjDXN8BUqVMhfW+vp+ZYvX+7/Vh2q1aErvY5mwLWjZDB+buj3rd5feg/rUKg+rOfLl89/T+v3d8JY0+yVwik8tI5m4fQe1CFPvR/1nn/rrbf8sVvFmrY5RV94W9BssGbk9Fr6sBKONT2u97kmA0aPHn3TtqPQ0ySB9h3aL7zyyiuWPHly+8Mf/uDflMCI3iDWAjq0weh7PBVF2mHok7o2UB1eyZo1q8+saWPQYRrtoDTzoBNCfxhr2jC1oWpj0yckDf0y0Ian2Qx9GtIOat68eX74U7MP2sFpxxj+PlEFomYuFIw6f02Rp3MeGIykDB3K185Ch270ftX7Wp/qtcPRn3rPh9/bOm9Mn9r1PtYOSB8Y9J7V0I5DFxAooPQhQ+9TvV81q6APOwljTYdsFGuaxfvh0Ptfs2Da6emDjIa2P533qW1PP5sw1vTv1iFOfZBRrGno8SeeeCI+1rSj03YX3uYYjJ8aei/r0KHeu3of6vCmZss0u/zDWFNU6YNAeGhWV+97HfkIvx81m6yZsx+LNT239hPhofPjtP3079/fnyMca5ol1n5Is346/eWHQ7PUem7NlGufoX+D/r2/+tWvfPtlRG8QawEd+oSkHZHOZ9AOQIdptHHp05bOV9COQjsUbeSaYdAhIM0o6LCNPuWEzznTYU1NcWtjV6Tpk5B2PuEdmz4V6bX085rl0I6mRIkSfu6D1lcYaoeqHZqm5rURa0el2QUGIylDh+P1ntL5mJqh0ntKYaU/9WFE73fNNOjwoWJHH0L0/tQ6mknWIXkNrRPeTvRe1Q5HO5icOXP6h5VwrOlPvc91bpnO99E2pefW9iLaeWkWWztLvba2Eb3X9T7XjkdxmDDWtAPTaQOKQP27tDPUazz//PP+urrAQQGqw0HEGiOxQyGm941mnfVe04cWhdIPY02/uxVz4aHf2frwo9/zei9qe9B+QLPTmpG+Vazp97v2E+ERjjV9OEkYa4pFzYCHZ/3C913TNqLtT/sSvbZmkrWdaNvSDPV//dd/+ewgI3qDWAvo0Aal2TK94fVpRRufZgb0aV+fcrRh6nwEzUBoHX2K0UaqGTDtoDRLph2LNjTtPHSYSIGlT1racBVq+mWgGQjtPLVRa4ZOf2oWT5/edC6PXks7MT2HdlhVqlTxQ67EGiOpQ1cuawejQyYpUqTwqzr1PtSOSIfr9V7XjJre19qJ6NO7Duf/MNa0U1GkaV29/zXzqx1bkSJFfCcXjjXNMugKuPCss2aFw9uVnlvBpW1B62odbSNaR/8W/ay2oYSxpiDTeUQ6PUCPi/6ubVP/Hh06ItYYkQ4dyVAgafb4jTfe8Cvx9aHh52JNp8copHQageJK24FmqfXhQe9X/VxSY037GH2gCV8hre1B+wltc9o/aFvQhQVarmWaNddr//d//zexFuVBrAV0aGZMU8vaOWmnpvNytCPRhqkTSrXx6qpPbdiaadOnGe10dH6BQks7Qf2sNiDtCLXz0UUGOg9IMw/awDQjp41XOxo9l5bp+fRJSRuk4k8bvw6XpkyZ0iNNy/Lnz+9T3gxGUofiSu83neeimSoNhY3ex5pt0/tQ7/s333zT40eHJxV4usJNgaWhGQN9uNC5OTpvU+tr5lnrawYgfLhVMaV1tZNSCGpHqHXTpEnj52tqdk6nDOi/tS3p36V1dLhTO0ttV/o36oOLAk/raielmNN62nb0IUbn0mk2Wzs+fcDRhRHEGiOSoUjS+0kfOPTe04cMvY/0O1jRpfe7DpUqqsJDs1x6X+r0FL2v9XtaF8fo97z2F3p/68O7luv59MFHF6/pA3t4aJ+i51XUKdZ0OFTxpg8uGpo10ykE2mb0Gnrf68OQ9h8KQu1btL/Ra+jq7DvvvNNnqRnRG8RaQIcO/WjnokOTosOe2mlow9NGq8M6ekzLtPPSRqhPQNrQ9AlN0aZlmsVQlOlwqDa48PpaR4dQ9TP67/BziT4x6fV1qEivpXOGtCPSz2mZ/q7nYzCSOvT+0ntNs2QKKQ293/Q+Dr/ftFzvWS3Xe1jvZb1PFUsaOgyjGNL7Mvze1Xah9bVM6+v9Gv57+MNJ+L2uP8OHRLUt6L/18+HXVfBpR6htRM+hCxH0AUbrajvT37WenkczauHTErTNaJvSa+m5GYzEDl3JqfeTTjsJH2rU+0jbhN5Ler/rfar1wkOP6/2pn9N2o0jSzG6WLFk8+BI+h/5bz6vZYu1fwiP8ntU+Ru9hPb/+rve7ht7beq6E2462L20bWie8b9Fr6IOVIlHbOCN6g1hjMBgMBuMXOhRM+nCuoyWiGTDd908zZeHYYvzyB7HGYDAYDMYvdCjWNJOlQNN5l7pYRue5afZLM2mM/4xBrDEYDAaDwWAEeBBrDAaDwWAwGIEdZv8/wQfF4RQ6ZeUAAAAASUVORK5CYII=)"
      ],
      "metadata": {
        "id": "dHHTyICLHInh"
      }
    },
    {
      "cell_type": "code",
      "source": [
        "# Print out classification report\n",
        "print(classification_report(y_test,predict))"
      ],
      "metadata": {
        "colab": {
          "base_uri": "https://localhost:8080/"
        },
        "id": "_CEH1yg0-0E0",
        "outputId": "16c32bb3-b1d3-4cbc-dc99-b00fe9fdb655"
      },
      "execution_count": 71,
      "outputs": [
        {
          "output_type": "stream",
          "name": "stdout",
          "text": [
            "              precision    recall  f1-score   support\n",
            "\n",
            "           0       1.00      1.00      1.00        16\n",
            "           1       1.00      1.00      1.00        12\n",
            "           2       1.00      1.00      1.00        17\n",
            "\n",
            "    accuracy                           1.00        45\n",
            "   macro avg       1.00      1.00      1.00        45\n",
            "weighted avg       1.00      1.00      1.00        45\n",
            "\n"
          ]
        }
      ]
    },
    {
      "cell_type": "markdown",
      "source": [
        "# Visulize KNN Model"
      ],
      "metadata": {
        "id": "FDb4_LEDInIO"
      }
    },
    {
      "cell_type": "markdown",
      "source": [
        "## Visulize KNN Model with kneighbor = 2 by heatmap"
      ],
      "metadata": {
        "id": "7XXy__U2ItUP"
      }
    },
    {
      "cell_type": "code",
      "source": [
        "# Create a list to store x and y axis value\n",
        "Tick_Label = ['setosa', 'versicolor', 'virginica']\n",
        "plt.figure(figsize=(10,10))\n",
        "# Display knn model heatmap\n",
        "sns.heatmap(confusion_matrix(y_test,predict),annot=True,fmt='.3f',linewidths=.5,\n",
        "      square=True,xticklabels = Tick_Label,yticklabels=Tick_Label)\n",
        "plt.xlabel('Actual Label')\n",
        "plt.ylabel('Predicted Label')\n",
        "all_sample_title = f\"Accuracy Score:{round(knn.score(X_test,y_test),3)}\"\n",
        "plt.title(all_sample_title,size=12)\n",
        "plt.show()"
      ],
      "metadata": {
        "colab": {
          "base_uri": "https://localhost:8080/",
          "height": 580
        },
        "id": "LO8Z_iof_wtP",
        "outputId": "851aeabd-4ed8-49d2-9864-99cc4e7ef6fb"
      },
      "execution_count": 72,
      "outputs": [
        {
          "output_type": "display_data",
          "data": {
            "image/png": "[encoded data removed]",
            "text/plain": [
              "<Figure size 720x720 with 2 Axes>"
            ]
          },
          "metadata": {
            "needs_background": "light"
          }
        }
      ]
    },
    {
      "cell_type": "markdown",
      "source": [
        "## Visulize K Value with a range of kneighbors"
      ],
      "metadata": {
        "id": "vZiY1Td9JFr5"
      }
    },
    {
      "cell_type": "code",
      "source": [
        "#import the metrics from sklearn\n",
        "from sklearn import metrics"
      ],
      "metadata": {
        "id": "eDSfx5c2J1-U"
      },
      "execution_count": 73,
      "outputs": []
    },
    {
      "cell_type": "code",
      "source": [
        "#create an array to store the k values\n",
        "k_value = []"
      ],
      "metadata": {
        "id": "5PDe0BqZK7X2"
      },
      "execution_count": 74,
      "outputs": []
    },
    {
      "cell_type": "code",
      "source": [
        "for i in range(1,40):\n",
        "  #assigning i to n neighbors\n",
        "  knn = KNeighborsClassifier(n_neighbors=i)\n",
        "  knn.fit(X_train,y_train)\n",
        "    #creating the predict variable\n",
        "  y_pred = knn.predict(X_test)\n",
        "  #appending the balues to the k_value array\n",
        "  k_value.append(metrics.accuracy_score(y_test,y_pred))\n",
        "print(k_value)"
      ],
      "metadata": {
        "colab": {
          "base_uri": "https://localhost:8080/"
        },
        "id": "GsQuRIiTK7Ua",
        "outputId": "fad905e9-a99b-4a74-ad5d-426b3a239ca7"
      },
      "execution_count": 75,
      "outputs": [
        {
          "output_type": "stream",
          "name": "stdout",
          "text": [
            "[1.0, 1.0, 1.0, 1.0, 1.0, 1.0, 1.0, 1.0, 1.0, 1.0, 1.0, 1.0, 1.0, 1.0, 1.0, 1.0, 1.0, 1.0, 1.0, 1.0, 1.0, 1.0, 1.0, 1.0, 1.0, 1.0, 1.0, 1.0, 1.0, 1.0, 1.0, 1.0, 1.0, 1.0, 1.0, 1.0, 1.0, 1.0, 1.0]\n"
          ]
        }
      ]
    },
    {
      "cell_type": "code",
      "source": [
        "plt.figure(figsize=(10,6))\n",
        "plt.plot(range(1,40),k_value,color='blue')\n",
        "plt.xlabel(\"Value of K for KNN\")\n",
        "plt.ylabel('Testing Accuracy')"
      ],
      "metadata": {
        "colab": {
          "base_uri": "https://localhost:8080/",
          "height": 405
        },
        "id": "PptgsMdqK7Q3",
        "outputId": "d7fc3c0d-d6ff-46de-e396-112de05a1d51"
      },
      "execution_count": 76,
      "outputs": [
        {
          "output_type": "execute_result",
          "data": {
            "text/plain": [
              "Text(0, 0.5, 'Testing Accuracy')"
            ]
          },
          "metadata": {},
          "execution_count": 76
        },
        {
          "output_type": "display_data",
          "data": {
            "image/png": "[encoded data removed]",
            "text/plain": [
              "<Figure size 720x432 with 1 Axes>"
            ]
          },
          "metadata": {
            "needs_background": "light"
          }
        }
      ]
    },
    {
      "cell_type": "markdown",
      "source": [
        "## Visulize Error Rate VS. K value"
      ],
      "metadata": {
        "id": "ejI74eO1LgeX"
      }
    },
    {
      "cell_type": "code",
      "source": [
        "error_rate = []"
      ],
      "metadata": {
        "id": "L4SSZMdJLrPb"
      },
      "execution_count": 77,
      "outputs": []
    },
    {
      "cell_type": "code",
      "source": [
        "for i in range(1,40):\n",
        "  knn = KNeighborsClassifier(n_neighbors=i)\n",
        "  knn.fit(X_train,y_train)\n",
        "  pred_i = knn.predict(X_test)\n",
        "  error_rate.append(np.mean(pred_i != y_test))"
      ],
      "metadata": {
        "id": "kGoPAQvrLrMA"
      },
      "execution_count": 78,
      "outputs": []
    },
    {
      "cell_type": "code",
      "source": [
        "plt.figure(figsize=(10,6))\n",
        "plt.plot(range(1,40),error_rate,color='red',linestyle='dashed',marker='o',\n",
        "         markerfacecolor='red',markersize=10)\n",
        "plt.title('Error Rate VS. K Value')\n",
        "plt.xlabel('K')\n",
        "plt.ylabel('Error Rate')"
      ],
      "metadata": {
        "colab": {
          "base_uri": "https://localhost:8080/",
          "height": 421
        },
        "id": "ZIrcKc2lLrJW",
        "outputId": "2d9ee9ff-6097-429a-a2a1-80be7e0e9509"
      },
      "execution_count": 79,
      "outputs": [
        {
          "output_type": "execute_result",
          "data": {
            "text/plain": [
              "Text(0, 0.5, 'Error Rate')"
            ]
          },
          "metadata": {},
          "execution_count": 79
        },
        {
          "output_type": "display_data",
          "data": {
            "image/png": "[encoded data removed]",
            "text/plain": [
              "<Figure size 720x432 with 1 Axes>"
            ]
          },
          "metadata": {
            "needs_background": "light"
          }
        }
      ]
    },
    {
      "cell_type": "markdown",
      "source": [
        "# Logistic Regession"
      ],
      "metadata": {
        "id": "8yEp9o5z72y9"
      }
    },
    {
      "cell_type": "code",
      "source": [
        "from sklearn.linear_model import LogisticRegression"
      ],
      "metadata": {
        "id": "U699DnrG2foM"
      },
      "execution_count": 80,
      "outputs": []
    },
    {
      "cell_type": "code",
      "source": [
        "logmodel = LogisticRegression()"
      ],
      "metadata": {
        "id": "UUR495zN6_lW"
      },
      "execution_count": 81,
      "outputs": []
    },
    {
      "cell_type": "code",
      "source": [
        "logmodel.fit(X_train,y_train)"
      ],
      "metadata": {
        "colab": {
          "base_uri": "https://localhost:8080/"
        },
        "id": "06QitpCP7BOD",
        "outputId": "f3e4c623-54f8-45c6-bd37-04184f3db3fa"
      },
      "execution_count": 82,
      "outputs": [
        {
          "output_type": "execute_result",
          "data": {
            "text/plain": [
              "LogisticRegression()"
            ]
          },
          "metadata": {},
          "execution_count": 82
        }
      ]
    },
    {
      "cell_type": "code",
      "source": [
        "predictions = logmodel.predict(X_test)"
      ],
      "metadata": {
        "id": "jgI2MNpm7EQU"
      },
      "execution_count": 83,
      "outputs": []
    },
    {
      "cell_type": "code",
      "source": [
        "from sklearn.metrics import classification_report,confusion_matrix\n",
        "print(confusion_matrix(y_test,predictions))"
      ],
      "metadata": {
        "colab": {
          "base_uri": "https://localhost:8080/"
        },
        "id": "EFnLPb8i7Jc1",
        "outputId": "1ed0b61e-f965-442d-b100-c4300b5ff6ec"
      },
      "execution_count": 84,
      "outputs": [
        {
          "output_type": "stream",
          "name": "stdout",
          "text": [
            "[[16  0  0]\n",
            " [ 0 12  0]\n",
            " [ 0  0 17]]\n"
          ]
        }
      ]
    },
    {
      "cell_type": "code",
      "source": [
        "print(logmodel.score(X_test,y_test))"
      ],
      "metadata": {
        "colab": {
          "base_uri": "https://localhost:8080/"
        },
        "id": "lRlqEscz7VTN",
        "outputId": "6c1f6153-b518-4456-aacc-4f5fd42501f7"
      },
      "execution_count": 85,
      "outputs": [
        {
          "output_type": "stream",
          "name": "stdout",
          "text": [
            "1.0\n"
          ]
        }
      ]
    }
  ]
}